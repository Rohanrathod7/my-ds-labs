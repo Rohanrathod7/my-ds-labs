{
  "nbformat": 4,
  "nbformat_minor": 0,
  "metadata": {
    "colab": {
      "provenance": [],
      "authorship_tag": "ABX9TyOENi2sttzAMMZ+/sZp8+Zj",
      "include_colab_link": true
    },
    "kernelspec": {
      "name": "python3",
      "display_name": "Python 3"
    },
    "language_info": {
      "name": "python"
    }
  },
  "cells": [
    {
      "cell_type": "markdown",
      "metadata": {
        "id": "view-in-github",
        "colab_type": "text"
      },
      "source": [
        "<a href=\"https://colab.research.google.com/github/Rohanrathod7/my-ds-labs/blob/main/14_Exploratory_Data_Analysis_in_Python/01_Getting_to_Know_a_Dataset.ipynb\" target=\"_parent\"><img src=\"https://colab.research.google.com/assets/colab-badge.svg\" alt=\"Open In Colab\"/></a>"
      ]
    },
    {
      "cell_type": "code",
      "execution_count": 2,
      "metadata": {
        "id": "J88byI6PHI8O"
      },
      "outputs": [],
      "source": [
        "import matplotlib.pyplot as plt\n",
        "import seaborn as sns\n",
        "import numpy as np\n",
        "import pandas as pd\n",
        "\n",
        "percent_literate  = [36.0, 86.5, 70.0, 97.0, 100.0, 42.0, 95.0, 89.0, 97.1, 98.6, 97.0, 100.0, 98.0, 97.0, 95.6, 89.1, 43.1, 97.4, 99.6, 98.0, 94.1, 40.9, 98.0, 42.2, 87.2, np.nan, 79.8, 86.4, 97.8, 93.9, 98.6, 26.6, 85.3, 51.6, 69.4, 79.0, 97.0, 76.6, 98.0, 51.0, 47.5, 96.2, 90.9, 92.5, 56.5, 65.5, 83.8, 95.0, 96.0, 50.9, 98.5, 97.0, 97.6, 99.9, 100.0, 67.9, 94.0, 84.7, 58.6, 92.5, 57.7, 80.2, 85.7, 58.6, 99.8, 42.7, np.nan, 93.7, 100.0, 99.0, 83.0, 98.0, 63.2, 40.1, np.nan, 99.0, 99.0, 74.8, np.nan, 97.5, np.nan, 98.0, 90.0, 99.0, 70.6, np.nan, 35.9, 42.4, 98.8, 52.9, 76.2, 93.5, 99.4, 99.9, 59.5, 87.9, 79.4, 40.4, 98.0, np.nan, 95.4, 98.6, 87.9, 99.0, np.nan, 91.3, 98.4, 85.1, np.nan, 99.0, 97.9, 83.5, 97.0, 66.4, 99.8, 87.4, 84.8, 57.5, 82.6, 100.0, 99.6, 100.0, 94.5, np.nan, 68.9, 62.7, 88.7, 97.2, 46.4, 92.8, 93.7, 97.7, 41.7, 85.6, np.nan, 92.2, 89.0, 99.1, 99.0, 97.8, 97.0, 51.7, 47.8, 84.0, np.nan, 45.2, 99.0, 96.7, 91.0, 99.0, 67.5, 17.6, 68.0, 97.0, 100.0, 75.8, 45.7, 92.0, 92.6, 64.6, 94.0, 90.9, 92.6, 99.8, 93.3, 94.1, 82.5, 88.9, 98.4, 99.6, 70.4, 97.0, 97.0, 67.0, 99.0, 96.0, 99.7, 96.0, 79.3, 78.8, 40.2, 93.0, 58.0, 31.4, 92.5, np.nan, 99.7, np.nan, 37.8, 86.4, 97.9, 92.3, 61.1, 93.0, 81.6, 99.0, 99.0, 76.9, 96.1, 99.4, 78.2, 92.6, 60.9, 98.5, 98.6, 74.2, 86.5, 98.0, 98.0, np.nan, 69.9, 99.7, 77.9, 99.0, 97.0, 98.0, 99.3, 53.0, 93.4, 90.3, np.nan, 50.0, np.nan, np.nan, 50.2, 80.6, 90.7]\n",
        "phones = [3.2, 71.2, 78.1, 259.5, 497.2, 7.8, 460.0, 549.9, 220.4, 195.7, 516.1, 565.5, 452.2, 137.1, 460.6, 281.3, 7.3, 481.9, 319.1, 462.6, 115.7, 9.7, 851.4, 14.3, 71.9, 215.4, 80.5, 225.3, 506.5, 237.2, 336.3, 7.0, 10.1, 3.4, 2.6, 5.7, 552.2, 169.6, 836.3, 2.3, 1.3, 213.0, 266.7, 176.2, 24.5, 0.2, 3.7, 289.9, 340.7, 14.6, 420.4, 74.7, np.nan, 314.3, 614.6, 22.8, 304.8, 97.4, np.nan, 125.6, 131.8, 142.4, 18.5, 7.9, 333.8, 8.2, 503.8, 112.6, 405.3, 586.4, 255.6, 194.5, 27.4, 26.8, 244.3, 146.6, 667.9, 14.4, 877.7, 589.7, 448.9, 364.5, 463.8, 492.0, 92.1, 842.4, 2.7, 7.4, 143.5, 16.9, 67.5, 546.7, 336.2, 647.7, 45.4, 52.0, 276.4, 38.6, 500.5, 676.0, 462.3, 430.9, 124.0, 461.2, 811.3, 104.5, 164.1, 8.1, 42.7, 42.4, 486.1, 211.0, 84.0, 14.1, 321.4, 255.6, 23.7, 2.3, 127.1, 585.5, 223.4, 515.4, 384.9, 260.0, 3.6, 7.9, 179.0, 90.0, 6.4, 505.0, 91.2, 394.4, 12.9, 289.3, 49.7, 181.6, 114.8, 208.1, 1035.6, 55.1, np.nan, 40.4, 3.5, 62.6, 143.0, 15.9, 460.8, 365.3, 252.2, 441.7, 39.7, 1.9, 9.3, 254.7, 461.7, 85.5, 31.8, 325.6, 137.9, 10.9, 49.2, 79.5, 38.4, 306.3, 399.2, 283.1, 232.0, 380.9, 196.9, 280.6, 2.7, 293.3, 638.9, 303.3, 683.2, 190.9, 75.2, 704.3, 36.2, 140.6, 22.2, 285.8, 262.4, 4.0, 411.4, 220.1, 406.1, 13.4, 11.3, 107.0, 453.5, 61.5, 16.3, 184.7, 30.8, 715.0, 680.9, 153.8, 591.0, 33.5, 4.0, 108.9, 10.6, 97.7, 303.5, 123.6, 269.5, 74.6, 269.5, 59.3, 3.6, 259.9, 475.3, 543.5, 898.0, 291.4, 62.9, 32.6, 140.1, 187.7, 652.8, 118.6, 145.2, np.nan, 37.2, 8.2, 26.8]\n",
        "gdp = [700.0, 4500.0, 6000.0, 8000.0, 19000.0, 1900.0, 8600.0, 11000.0, 11200.0, 3500.0, 28000.0, 29000.0, 30000.0, 3400.0, 16700.0, 16900.0, 1900.0, 15700.0, 6100.0, 29100.0, 4900.0, 1100.0, 36000.0, 1300.0, 2400.0, 6100.0, 9000.0, 7600.0, 16000.0, 18600.0, 7600.0, 1100.0, 1800.0, 600.0, 1900.0, 1800.0, 29800.0, 1400.0, 35000.0, 1100.0, 1200.0, 9900.0, 5000.0, 6300.0, 700.0, 700.0, 700.0, 5000.0, 9100.0, 1400.0, 10600.0, 2900.0, 19200.0, 15700.0, 31100.0, 1300.0, 5400.0, 6000.0, 500.0, 3300.0, 4000.0, 4800.0, 2700.0, 700.0, 12300.0, 700.0, 22000.0, 5800.0, 27400.0, 27600.0, 8300.0, 17500.0, 5500.0, 1700.0, 600.0, 2500.0, 27600.0, 2200.0, 17500.0, 20000.0, 20000.0, 5000.0, 8000.0, 21000.0, 4100.0, 20000.0, 2100.0, 800.0, 4000.0, 1600.0, 2600.0, 28800.0, 13900.0, 30900.0, 2900.0, 3200.0, 7000.0, 1500.0, 29600.0, 21000.0, 19800.0, 26700.0, 3900.0, 28200.0, 24800.0, 4300.0, 6300.0, 1000.0, 800.0, 1300.0, 17800.0, 19000.0, 1600.0, 1700.0, 10200.0, 4800.0, 3000.0, 1000.0, 6400.0, 25000.0, 11400.0, 55100.0, 19400.0, 6700.0, 800.0, 600.0, 9000.0, 3900.0, 900.0, 17700.0, 1600.0, 14400.0, 1800.0, 11400.0, 2600.0, 9000.0, 2000.0, 1800.0, 27000.0, 1800.0, 3400.0, 4000.0, 1200.0, 7200.0, 5000.0, 1400.0, 28600.0, 11400.0, 15000.0, 21600.0, 2300.0, 800.0, 900.0, 12500.0, 37800.0, 13100.0, 2100.0, 9000.0, 6300.0, 2200.0, 4700.0, 5100.0, 4600.0, 11100.0, 18000.0, 16800.0, 21500.0, 5800.0, 7000.0, 8900.0, 1300.0, 2500.0, 8800.0, 5400.0, 6900.0, 2900.0, 5600.0, 34600.0, 1200.0, 11800.0, 1600.0, 2200.0, 7800.0, 500.0, 23700.0, 13300.0, 19000.0, 1700.0, 500.0, 10700.0, 22000.0, 3700.0, 1900.0, 4000.0, 4900.0, 26800.0, 32700.0, 3300.0, 23400.0, 1000.0, 600.0, 7400.0, 1500.0, 2200.0, 9500.0, 6900.0, 6700.0, 5800.0, 9600.0, 1100.0, 1400.0, 5400.0, 23200.0, 27700.0, 37800.0, 12800.0, 1700.0, 2900.0, 4800.0, 2500.0, 17200.0, 3700.0, 800.0, np.nan, 800.0, 800.0, 1900.0]"
      ]
    },
    {
      "cell_type": "code",
      "source": [
        "url = \"https://raw.githubusercontent.com/Rohanrathod7/my-ds-labs/main/14_Exploratory_Data_Analysis_in_Python/dataset/unemployment.csv\"\n",
        "unemployment = pd.read_csv(url)\n",
        "display(unemployment.head())"
      ],
      "metadata": {
        "id": "fgPMf-jl6pjn",
        "collapsed": true,
        "outputId": "6af13a7d-00a5-4029-bf7e-d93777c51de1",
        "colab": {
          "base_uri": "https://localhost:8080/",
          "height": 206
        }
      },
      "execution_count": 5,
      "outputs": [
        {
          "output_type": "display_data",
          "data": {
            "text/plain": [
              "  country_code          country_name      continent   2010   2011   2012  \\\n",
              "0          AFG           Afghanistan           Asia  11.35  11.05  11.34   \n",
              "1          AGO                Angola         Africa   9.43   7.36   7.35   \n",
              "2          ALB               Albania         Europe  14.09  13.48  13.38   \n",
              "3          ARE  United Arab Emirates           Asia   2.48   2.30   2.18   \n",
              "4          ARG             Argentina  South America   7.71   7.18   7.22   \n",
              "\n",
              "    2013   2014   2015   2016   2017   2018   2019   2020   2021  \n",
              "0  11.19  11.14  11.13  11.16  11.18  11.15  11.22  11.71  13.28  \n",
              "1   7.37   7.37   7.39   7.41   7.41   7.42   7.42   8.33   8.53  \n",
              "2  15.87  18.05  17.19  15.42  13.62  12.30  11.47  13.33  11.82  \n",
              "3   2.04   1.91   1.77   1.64   2.46   2.35   2.23   3.19   3.36  \n",
              "4   7.10   7.27   7.52   8.11   8.35   9.22   9.84  11.46  10.90  "
            ],
            "text/html": [
              "\n",
              "  <div id=\"df-768419fb-7f41-436c-b0b2-72f8f372bafd\" class=\"colab-df-container\">\n",
              "    <div>\n",
              "<style scoped>\n",
              "    .dataframe tbody tr th:only-of-type {\n",
              "        vertical-align: middle;\n",
              "    }\n",
              "\n",
              "    .dataframe tbody tr th {\n",
              "        vertical-align: top;\n",
              "    }\n",
              "\n",
              "    .dataframe thead th {\n",
              "        text-align: right;\n",
              "    }\n",
              "</style>\n",
              "<table border=\"1\" class=\"dataframe\">\n",
              "  <thead>\n",
              "    <tr style=\"text-align: right;\">\n",
              "      <th></th>\n",
              "      <th>country_code</th>\n",
              "      <th>country_name</th>\n",
              "      <th>continent</th>\n",
              "      <th>2010</th>\n",
              "      <th>2011</th>\n",
              "      <th>2012</th>\n",
              "      <th>2013</th>\n",
              "      <th>2014</th>\n",
              "      <th>2015</th>\n",
              "      <th>2016</th>\n",
              "      <th>2017</th>\n",
              "      <th>2018</th>\n",
              "      <th>2019</th>\n",
              "      <th>2020</th>\n",
              "      <th>2021</th>\n",
              "    </tr>\n",
              "  </thead>\n",
              "  <tbody>\n",
              "    <tr>\n",
              "      <th>0</th>\n",
              "      <td>AFG</td>\n",
              "      <td>Afghanistan</td>\n",
              "      <td>Asia</td>\n",
              "      <td>11.35</td>\n",
              "      <td>11.05</td>\n",
              "      <td>11.34</td>\n",
              "      <td>11.19</td>\n",
              "      <td>11.14</td>\n",
              "      <td>11.13</td>\n",
              "      <td>11.16</td>\n",
              "      <td>11.18</td>\n",
              "      <td>11.15</td>\n",
              "      <td>11.22</td>\n",
              "      <td>11.71</td>\n",
              "      <td>13.28</td>\n",
              "    </tr>\n",
              "    <tr>\n",
              "      <th>1</th>\n",
              "      <td>AGO</td>\n",
              "      <td>Angola</td>\n",
              "      <td>Africa</td>\n",
              "      <td>9.43</td>\n",
              "      <td>7.36</td>\n",
              "      <td>7.35</td>\n",
              "      <td>7.37</td>\n",
              "      <td>7.37</td>\n",
              "      <td>7.39</td>\n",
              "      <td>7.41</td>\n",
              "      <td>7.41</td>\n",
              "      <td>7.42</td>\n",
              "      <td>7.42</td>\n",
              "      <td>8.33</td>\n",
              "      <td>8.53</td>\n",
              "    </tr>\n",
              "    <tr>\n",
              "      <th>2</th>\n",
              "      <td>ALB</td>\n",
              "      <td>Albania</td>\n",
              "      <td>Europe</td>\n",
              "      <td>14.09</td>\n",
              "      <td>13.48</td>\n",
              "      <td>13.38</td>\n",
              "      <td>15.87</td>\n",
              "      <td>18.05</td>\n",
              "      <td>17.19</td>\n",
              "      <td>15.42</td>\n",
              "      <td>13.62</td>\n",
              "      <td>12.30</td>\n",
              "      <td>11.47</td>\n",
              "      <td>13.33</td>\n",
              "      <td>11.82</td>\n",
              "    </tr>\n",
              "    <tr>\n",
              "      <th>3</th>\n",
              "      <td>ARE</td>\n",
              "      <td>United Arab Emirates</td>\n",
              "      <td>Asia</td>\n",
              "      <td>2.48</td>\n",
              "      <td>2.30</td>\n",
              "      <td>2.18</td>\n",
              "      <td>2.04</td>\n",
              "      <td>1.91</td>\n",
              "      <td>1.77</td>\n",
              "      <td>1.64</td>\n",
              "      <td>2.46</td>\n",
              "      <td>2.35</td>\n",
              "      <td>2.23</td>\n",
              "      <td>3.19</td>\n",
              "      <td>3.36</td>\n",
              "    </tr>\n",
              "    <tr>\n",
              "      <th>4</th>\n",
              "      <td>ARG</td>\n",
              "      <td>Argentina</td>\n",
              "      <td>South America</td>\n",
              "      <td>7.71</td>\n",
              "      <td>7.18</td>\n",
              "      <td>7.22</td>\n",
              "      <td>7.10</td>\n",
              "      <td>7.27</td>\n",
              "      <td>7.52</td>\n",
              "      <td>8.11</td>\n",
              "      <td>8.35</td>\n",
              "      <td>9.22</td>\n",
              "      <td>9.84</td>\n",
              "      <td>11.46</td>\n",
              "      <td>10.90</td>\n",
              "    </tr>\n",
              "  </tbody>\n",
              "</table>\n",
              "</div>\n",
              "    <div class=\"colab-df-buttons\">\n",
              "\n",
              "  <div class=\"colab-df-container\">\n",
              "    <button class=\"colab-df-convert\" onclick=\"convertToInteractive('df-768419fb-7f41-436c-b0b2-72f8f372bafd')\"\n",
              "            title=\"Convert this dataframe to an interactive table.\"\n",
              "            style=\"display:none;\">\n",
              "\n",
              "  <svg xmlns=\"http://www.w3.org/2000/svg\" height=\"24px\" viewBox=\"0 -960 960 960\">\n",
              "    <path d=\"M120-120v-720h720v720H120Zm60-500h600v-160H180v160Zm220 220h160v-160H400v160Zm0 220h160v-160H400v160ZM180-400h160v-160H180v160Zm440 0h160v-160H620v160ZM180-180h160v-160H180v160Zm440 0h160v-160H620v160Z\"/>\n",
              "  </svg>\n",
              "    </button>\n",
              "\n",
              "  <style>\n",
              "    .colab-df-container {\n",
              "      display:flex;\n",
              "      gap: 12px;\n",
              "    }\n",
              "\n",
              "    .colab-df-convert {\n",
              "      background-color: #E8F0FE;\n",
              "      border: none;\n",
              "      border-radius: 50%;\n",
              "      cursor: pointer;\n",
              "      display: none;\n",
              "      fill: #1967D2;\n",
              "      height: 32px;\n",
              "      padding: 0 0 0 0;\n",
              "      width: 32px;\n",
              "    }\n",
              "\n",
              "    .colab-df-convert:hover {\n",
              "      background-color: #E2EBFA;\n",
              "      box-shadow: 0px 1px 2px rgba(60, 64, 67, 0.3), 0px 1px 3px 1px rgba(60, 64, 67, 0.15);\n",
              "      fill: #174EA6;\n",
              "    }\n",
              "\n",
              "    .colab-df-buttons div {\n",
              "      margin-bottom: 4px;\n",
              "    }\n",
              "\n",
              "    [theme=dark] .colab-df-convert {\n",
              "      background-color: #3B4455;\n",
              "      fill: #D2E3FC;\n",
              "    }\n",
              "\n",
              "    [theme=dark] .colab-df-convert:hover {\n",
              "      background-color: #434B5C;\n",
              "      box-shadow: 0px 1px 3px 1px rgba(0, 0, 0, 0.15);\n",
              "      filter: drop-shadow(0px 1px 2px rgba(0, 0, 0, 0.3));\n",
              "      fill: #FFFFFF;\n",
              "    }\n",
              "  </style>\n",
              "\n",
              "    <script>\n",
              "      const buttonEl =\n",
              "        document.querySelector('#df-768419fb-7f41-436c-b0b2-72f8f372bafd button.colab-df-convert');\n",
              "      buttonEl.style.display =\n",
              "        google.colab.kernel.accessAllowed ? 'block' : 'none';\n",
              "\n",
              "      async function convertToInteractive(key) {\n",
              "        const element = document.querySelector('#df-768419fb-7f41-436c-b0b2-72f8f372bafd');\n",
              "        const dataTable =\n",
              "          await google.colab.kernel.invokeFunction('convertToInteractive',\n",
              "                                                    [key], {});\n",
              "        if (!dataTable) return;\n",
              "\n",
              "        const docLinkHtml = 'Like what you see? Visit the ' +\n",
              "          '<a target=\"_blank\" href=https://colab.research.google.com/notebooks/data_table.ipynb>data table notebook</a>'\n",
              "          + ' to learn more about interactive tables.';\n",
              "        element.innerHTML = '';\n",
              "        dataTable['output_type'] = 'display_data';\n",
              "        await google.colab.output.renderOutput(dataTable, element);\n",
              "        const docLink = document.createElement('div');\n",
              "        docLink.innerHTML = docLinkHtml;\n",
              "        element.appendChild(docLink);\n",
              "      }\n",
              "    </script>\n",
              "  </div>\n",
              "\n",
              "\n",
              "    <div id=\"df-3a0511ef-3443-4881-81fe-ded04e0f5182\">\n",
              "      <button class=\"colab-df-quickchart\" onclick=\"quickchart('df-3a0511ef-3443-4881-81fe-ded04e0f5182')\"\n",
              "                title=\"Suggest charts\"\n",
              "                style=\"display:none;\">\n",
              "\n",
              "<svg xmlns=\"http://www.w3.org/2000/svg\" height=\"24px\"viewBox=\"0 0 24 24\"\n",
              "     width=\"24px\">\n",
              "    <g>\n",
              "        <path d=\"M19 3H5c-1.1 0-2 .9-2 2v14c0 1.1.9 2 2 2h14c1.1 0 2-.9 2-2V5c0-1.1-.9-2-2-2zM9 17H7v-7h2v7zm4 0h-2V7h2v10zm4 0h-2v-4h2v4z\"/>\n",
              "    </g>\n",
              "</svg>\n",
              "      </button>\n",
              "\n",
              "<style>\n",
              "  .colab-df-quickchart {\n",
              "      --bg-color: #E8F0FE;\n",
              "      --fill-color: #1967D2;\n",
              "      --hover-bg-color: #E2EBFA;\n",
              "      --hover-fill-color: #174EA6;\n",
              "      --disabled-fill-color: #AAA;\n",
              "      --disabled-bg-color: #DDD;\n",
              "  }\n",
              "\n",
              "  [theme=dark] .colab-df-quickchart {\n",
              "      --bg-color: #3B4455;\n",
              "      --fill-color: #D2E3FC;\n",
              "      --hover-bg-color: #434B5C;\n",
              "      --hover-fill-color: #FFFFFF;\n",
              "      --disabled-bg-color: #3B4455;\n",
              "      --disabled-fill-color: #666;\n",
              "  }\n",
              "\n",
              "  .colab-df-quickchart {\n",
              "    background-color: var(--bg-color);\n",
              "    border: none;\n",
              "    border-radius: 50%;\n",
              "    cursor: pointer;\n",
              "    display: none;\n",
              "    fill: var(--fill-color);\n",
              "    height: 32px;\n",
              "    padding: 0;\n",
              "    width: 32px;\n",
              "  }\n",
              "\n",
              "  .colab-df-quickchart:hover {\n",
              "    background-color: var(--hover-bg-color);\n",
              "    box-shadow: 0 1px 2px rgba(60, 64, 67, 0.3), 0 1px 3px 1px rgba(60, 64, 67, 0.15);\n",
              "    fill: var(--button-hover-fill-color);\n",
              "  }\n",
              "\n",
              "  .colab-df-quickchart-complete:disabled,\n",
              "  .colab-df-quickchart-complete:disabled:hover {\n",
              "    background-color: var(--disabled-bg-color);\n",
              "    fill: var(--disabled-fill-color);\n",
              "    box-shadow: none;\n",
              "  }\n",
              "\n",
              "  .colab-df-spinner {\n",
              "    border: 2px solid var(--fill-color);\n",
              "    border-color: transparent;\n",
              "    border-bottom-color: var(--fill-color);\n",
              "    animation:\n",
              "      spin 1s steps(1) infinite;\n",
              "  }\n",
              "\n",
              "  @keyframes spin {\n",
              "    0% {\n",
              "      border-color: transparent;\n",
              "      border-bottom-color: var(--fill-color);\n",
              "      border-left-color: var(--fill-color);\n",
              "    }\n",
              "    20% {\n",
              "      border-color: transparent;\n",
              "      border-left-color: var(--fill-color);\n",
              "      border-top-color: var(--fill-color);\n",
              "    }\n",
              "    30% {\n",
              "      border-color: transparent;\n",
              "      border-left-color: var(--fill-color);\n",
              "      border-top-color: var(--fill-color);\n",
              "      border-right-color: var(--fill-color);\n",
              "    }\n",
              "    40% {\n",
              "      border-color: transparent;\n",
              "      border-right-color: var(--fill-color);\n",
              "      border-top-color: var(--fill-color);\n",
              "    }\n",
              "    60% {\n",
              "      border-color: transparent;\n",
              "      border-right-color: var(--fill-color);\n",
              "    }\n",
              "    80% {\n",
              "      border-color: transparent;\n",
              "      border-right-color: var(--fill-color);\n",
              "      border-bottom-color: var(--fill-color);\n",
              "    }\n",
              "    90% {\n",
              "      border-color: transparent;\n",
              "      border-bottom-color: var(--fill-color);\n",
              "    }\n",
              "  }\n",
              "</style>\n",
              "\n",
              "      <script>\n",
              "        async function quickchart(key) {\n",
              "          const quickchartButtonEl =\n",
              "            document.querySelector('#' + key + ' button');\n",
              "          quickchartButtonEl.disabled = true;  // To prevent multiple clicks.\n",
              "          quickchartButtonEl.classList.add('colab-df-spinner');\n",
              "          try {\n",
              "            const charts = await google.colab.kernel.invokeFunction(\n",
              "                'suggestCharts', [key], {});\n",
              "          } catch (error) {\n",
              "            console.error('Error during call to suggestCharts:', error);\n",
              "          }\n",
              "          quickchartButtonEl.classList.remove('colab-df-spinner');\n",
              "          quickchartButtonEl.classList.add('colab-df-quickchart-complete');\n",
              "        }\n",
              "        (() => {\n",
              "          let quickchartButtonEl =\n",
              "            document.querySelector('#df-3a0511ef-3443-4881-81fe-ded04e0f5182 button');\n",
              "          quickchartButtonEl.style.display =\n",
              "            google.colab.kernel.accessAllowed ? 'block' : 'none';\n",
              "        })();\n",
              "      </script>\n",
              "    </div>\n",
              "\n",
              "    </div>\n",
              "  </div>\n"
            ],
            "application/vnd.google.colaboratory.intrinsic+json": {
              "type": "dataframe",
              "summary": "{\n  \"name\": \"display(unemployment\",\n  \"rows\": 5,\n  \"fields\": [\n    {\n      \"column\": \"country_code\",\n      \"properties\": {\n        \"dtype\": \"string\",\n        \"num_unique_values\": 5,\n        \"samples\": [\n          \"    AGO\",\n          \"    ARG\",\n          \"    ALB\"\n        ],\n        \"semantic_type\": \"\",\n        \"description\": \"\"\n      }\n    },\n    {\n      \"column\": \"country_name\",\n      \"properties\": {\n        \"dtype\": \"string\",\n        \"num_unique_values\": 5,\n        \"samples\": [\n          \"Angola\",\n          \"Argentina\",\n          \"Albania\"\n        ],\n        \"semantic_type\": \"\",\n        \"description\": \"\"\n      }\n    },\n    {\n      \"column\": \"continent\",\n      \"properties\": {\n        \"dtype\": \"string\",\n        \"num_unique_values\": 4,\n        \"samples\": [\n          \"Africa\",\n          \"South America\",\n          \"Asia\"\n        ],\n        \"semantic_type\": \"\",\n        \"description\": \"\"\n      }\n    },\n    {\n      \"column\": \"2010\",\n      \"properties\": {\n        \"dtype\": \"number\",\n        \"std\": 4.352851938671932,\n        \"min\": 2.48,\n        \"max\": 14.09,\n        \"num_unique_values\": 5,\n        \"samples\": [\n          9.43,\n          7.71,\n          14.09\n        ],\n        \"semantic_type\": \"\",\n        \"description\": \"\"\n      }\n    },\n    {\n      \"column\": \"2011\",\n      \"properties\": {\n        \"dtype\": \"number\",\n        \"std\": 4.258213240315708,\n        \"min\": 2.3,\n        \"max\": 13.48,\n        \"num_unique_values\": 5,\n        \"samples\": [\n          7.36,\n          7.18,\n          13.48\n        ],\n        \"semantic_type\": \"\",\n        \"description\": \"\"\n      }\n    },\n    {\n      \"column\": \"2012\",\n      \"properties\": {\n        \"dtype\": \"number\",\n        \"std\": 4.3177285695142995,\n        \"min\": 2.18,\n        \"max\": 13.38,\n        \"num_unique_values\": 5,\n        \"samples\": [\n          7.35,\n          7.22,\n          13.38\n        ],\n        \"semantic_type\": \"\",\n        \"description\": \"\"\n      }\n    },\n    {\n      \"column\": \"2013\",\n      \"properties\": {\n        \"dtype\": \"number\",\n        \"std\": 5.154913190345692,\n        \"min\": 2.04,\n        \"max\": 15.87,\n        \"num_unique_values\": 5,\n        \"samples\": [\n          7.37,\n          7.1,\n          15.87\n        ],\n        \"semantic_type\": \"\",\n        \"description\": \"\"\n      }\n    },\n    {\n      \"column\": \"2014\",\n      \"properties\": {\n        \"dtype\": \"number\",\n        \"std\": 5.964278665521926,\n        \"min\": 1.91,\n        \"max\": 18.05,\n        \"num_unique_values\": 5,\n        \"samples\": [\n          7.37,\n          7.27,\n          18.05\n        ],\n        \"semantic_type\": \"\",\n        \"description\": \"\"\n      }\n    },\n    {\n      \"column\": \"2015\",\n      \"properties\": {\n        \"dtype\": \"number\",\n        \"std\": 5.671604711190653,\n        \"min\": 1.77,\n        \"max\": 17.19,\n        \"num_unique_values\": 5,\n        \"samples\": [\n          7.39,\n          7.52,\n          17.19\n        ],\n        \"semantic_type\": \"\",\n        \"description\": \"\"\n      }\n    },\n    {\n      \"column\": \"2016\",\n      \"properties\": {\n        \"dtype\": \"number\",\n        \"std\": 5.075782698264377,\n        \"min\": 1.64,\n        \"max\": 15.42,\n        \"num_unique_values\": 5,\n        \"samples\": [\n          7.41,\n          8.11,\n          15.42\n        ],\n        \"semantic_type\": \"\",\n        \"description\": \"\"\n      }\n    },\n    {\n      \"column\": \"2017\",\n      \"properties\": {\n        \"dtype\": \"number\",\n        \"std\": 4.21411081961545,\n        \"min\": 2.46,\n        \"max\": 13.62,\n        \"num_unique_values\": 5,\n        \"samples\": [\n          7.41,\n          8.35,\n          13.62\n        ],\n        \"semantic_type\": \"\",\n        \"description\": \"\"\n      }\n    },\n    {\n      \"column\": \"2018\",\n      \"properties\": {\n        \"dtype\": \"number\",\n        \"std\": 3.9041349874203894,\n        \"min\": 2.35,\n        \"max\": 12.3,\n        \"num_unique_values\": 5,\n        \"samples\": [\n          7.42,\n          9.22,\n          12.3\n        ],\n        \"semantic_type\": \"\",\n        \"description\": \"\"\n      }\n    },\n    {\n      \"column\": \"2019\",\n      \"properties\": {\n        \"dtype\": \"number\",\n        \"std\": 3.8234055500299733,\n        \"min\": 2.23,\n        \"max\": 11.47,\n        \"num_unique_values\": 5,\n        \"samples\": [\n          7.42,\n          9.84,\n          11.47\n        ],\n        \"semantic_type\": \"\",\n        \"description\": \"\"\n      }\n    },\n    {\n      \"column\": \"2020\",\n      \"properties\": {\n        \"dtype\": \"number\",\n        \"std\": 4.016388925390569,\n        \"min\": 3.19,\n        \"max\": 13.33,\n        \"num_unique_values\": 5,\n        \"samples\": [\n          8.33,\n          11.46,\n          13.33\n        ],\n        \"semantic_type\": \"\",\n        \"description\": \"\"\n      }\n    },\n    {\n      \"column\": \"2021\",\n      \"properties\": {\n        \"dtype\": \"number\",\n        \"std\": 3.880749927526895,\n        \"min\": 3.36,\n        \"max\": 13.28,\n        \"num_unique_values\": 5,\n        \"samples\": [\n          8.53,\n          10.9,\n          11.82\n        ],\n        \"semantic_type\": \"\",\n        \"description\": \"\"\n      }\n    }\n  ]\n}"
            }
          },
          "metadata": {}
        }
      ]
    },
    {
      "cell_type": "markdown",
      "source": [
        "### Getting to Know a Dataset"
      ],
      "metadata": {
        "id": "lQO2RXMkLIjn"
      }
    },
    {
      "cell_type": "markdown",
      "source": [
        "**Functions for initial exploration**  \n",
        "You are researching unemployment rates worldwide and have been given a new dataset to work with. The data has been saved and loaded for you as a pandas DataFrame called unemployment. You've never seen the data before, so your first task is to use a few pandas functions to learn about this new data.\n",
        "\n",
        "pandas has been imported for you as pd."
      ],
      "metadata": {
        "id": "clVr1dUCFqwd"
      }
    },
    {
      "cell_type": "code",
      "source": [
        "# Print the first five rows of unemployment\n",
        "print(unemployment.head())"
      ],
      "metadata": {
        "id": "niAS0OC3Fvfu"
      },
      "execution_count": null,
      "outputs": []
    },
    {
      "cell_type": "code",
      "source": [
        "# Print a summary of non-missing values and data types in the unemployment DataFrame\n",
        "print(unemployment.info())"
      ],
      "metadata": {
        "id": "ZU2ve1xaFwak"
      },
      "execution_count": null,
      "outputs": []
    },
    {
      "cell_type": "code",
      "source": [
        "# Print summary statistics for numerical columns in unemployment\n",
        "print(unemployment.describe())"
      ],
      "metadata": {
        "collapsed": true,
        "id": "w_ZCxkkKFzuJ",
        "outputId": "d9f509f6-e363-42d0-972c-47ae1c1d0fb2",
        "colab": {
          "base_uri": "https://localhost:8080/"
        }
      },
      "execution_count": 6,
      "outputs": [
        {
          "output_type": "stream",
          "name": "stdout",
          "text": [
            "             2010        2011        2012        2013        2014        2015  \\\n",
            "count  182.000000  182.000000  182.000000  182.000000  182.000000  182.000000   \n",
            "mean     8.409286    8.315440    8.317967    8.344780    8.179670    8.058901   \n",
            "std      6.248887    6.266795    6.367270    6.416041    6.284241    6.161170   \n",
            "min      0.450000    0.320000    0.480000    0.250000    0.200000    0.170000   \n",
            "25%      4.015000    3.775000    3.742500    3.692500    3.625000    3.662500   \n",
            "50%      6.965000    6.805000    6.690000    6.395000    6.450000    6.170000   \n",
            "75%     10.957500   11.045000   11.285000   11.310000   10.695000   10.215000   \n",
            "max     32.020000   31.380000   31.020000   29.000000   28.030000   27.690000   \n",
            "\n",
            "             2016        2017        2018        2019        2020        2021  \n",
            "count  182.000000  182.000000  182.000000  182.000000  182.000000  182.000000  \n",
            "mean     7.925879    7.668626    7.426429    7.243736    8.420934    8.390879  \n",
            "std      6.045439    5.902152    5.818915    5.696573    6.040915    6.067192  \n",
            "min      0.150000    0.140000    0.110000    0.100000    0.210000    0.260000  \n",
            "25%      3.800000    3.690000    3.625000    3.487500    4.285000    4.335000  \n",
            "50%      5.925000    5.650000    5.375000    5.240000    6.695000    6.425000  \n",
            "75%     10.245000   10.315000    9.257500    9.445000   11.155000   10.840000  \n",
            "max     26.540000   27.040000   26.910000   28.470000   29.220000   33.560000  \n"
          ]
        }
      ]
    },
    {
      "cell_type": "markdown",
      "source": [
        "**Counting categorical values**"
      ],
      "metadata": {
        "id": "FNIq7SYkHh3U"
      }
    },
    {
      "cell_type": "markdown",
      "source": [
        "You'd now like to explore the categorical data contained in unemployment to understand the data that it contains related to each continent."
      ],
      "metadata": {
        "id": "386ilL19HeDA"
      }
    },
    {
      "cell_type": "code",
      "source": [
        "# Count the values associated with each continent in unemployment\n",
        "print(unemployment.value_counts(\"continent\"))\n",
        "\n",
        "#  Did you know that there are 23 countries in North America, which includes countries in the Caribbean and Central America? You may have noticed that\n",
        "#  North America has 18 data points in the unemployment DataFrame, so we are missing information on a few of the countries from our dataset.\n",
        "\n"
      ],
      "metadata": {
        "collapsed": true,
        "id": "CHHy2I8iHf-1",
        "outputId": "ad37c88b-ae2e-4140-ca1c-96d6c47d5bc6",
        "colab": {
          "base_uri": "https://localhost:8080/"
        }
      },
      "execution_count": 7,
      "outputs": [
        {
          "output_type": "stream",
          "name": "stdout",
          "text": [
            "continent\n",
            "Africa           53\n",
            "Asia             47\n",
            "Europe           39\n",
            "North America    18\n",
            "South America    12\n",
            "Oceania           8\n",
            "Name: count, dtype: int64\n"
          ]
        }
      ]
    },
    {
      "cell_type": "markdown",
      "source": [
        "**Global unemployment in 2021**  \n",
        "unemployment rate, and what did the distribution of the unemployment rates look like across the world? A histogram is a great way to get a sense of the answers to these questions.\n",
        "\n",
        "Your task in this exercise is to create a histogram showing the distribution of global unemployment rates in 2021.\n",
        "\n"
      ],
      "metadata": {
        "id": "EaXK7icZIbYn"
      }
    },
    {
      "cell_type": "markdown",
      "source": [
        "- Create a histogram of the distribution of 2021 unemployment percentages across all countries in unemployment; show a full percentage point in each bin.\n",
        "\n"
      ],
      "metadata": {
        "id": "8yyZtredIdXD"
      }
    },
    {
      "cell_type": "code",
      "source": [
        "# Import the required visualization libraries\n",
        "import matplotlib.pyplot as plt\n",
        "import seaborn as sns\n",
        "\n",
        "# Create a histogram of 2021 unemployment; show a full percent in each bin\n",
        "sns.histplot(data=unemployment, x=\"2021\",  binwidth=1)\n",
        "plt.show()\n",
        "\n",
        "#  Nice work—it looks like 2021 unemployment hovered around 3% to 8% for most\n",
        "#  countries in the dataset, but a few countries experienced very high unemployment\n",
        "#  of 20% to 35%."
      ],
      "metadata": {
        "collapsed": true,
        "id": "WCunDi7oI49w",
        "outputId": "7d29ac71-f630-44d1-f7cc-019a597c7927",
        "colab": {
          "base_uri": "https://localhost:8080/",
          "height": 449
        }
      },
      "execution_count": 8,
      "outputs": [
        {
          "output_type": "display_data",
          "data": {
            "text/plain": [
              "<Figure size 640x480 with 1 Axes>"
            ],
            "image/png": "[encoded data removed]"
          },
          "metadata": {}
        }
      ]
    },
    {
      "cell_type": "markdown",
      "source": [
        "### Data Validation"
      ],
      "metadata": {
        "id": "dmMPDAdcH8rS"
      }
    },
    {
      "cell_type": "markdown",
      "source": [
        "**Detecting data types**  \n",
        "A column has been changed in the unemployment DataFrame and it now has the wrong data type! This data type will stop you from performing effective exploration and analysis, so your task is to identify which column has the wrong data type and then fix it."
      ],
      "metadata": {
        "id": "eaWtIk_hLtG4"
      }
    },
    {
      "cell_type": "markdown",
      "source": [
        "- Update the data type of the 2019 column of unemployment to float.\n",
        "- Print the dtypes of the unemployment DataFrame again to check that the data type has been updated!"
      ],
      "metadata": {
        "id": "3GHYSSUmLyyp"
      }
    },
    {
      "cell_type": "code",
      "source": [
        "# Update the data type of the 2019 column to a float\n",
        "unemployment[\"2019\"] = unemployment[\"2019\"].astype(float)\n",
        "# Print the dtypes to check your work\n",
        "print(unemployment.dtypes)\n",
        "\n",
        "# Look at those delightful data types! Changing the 2019 column's data type means\n",
        "# you can now perform calculations on it, including validating its range"
      ],
      "metadata": {
        "collapsed": true,
        "id": "t-b6__6vL2wj",
        "outputId": "7a41f6db-dd2b-4d6b-f449-73289cfbf115",
        "colab": {
          "base_uri": "https://localhost:8080/"
        }
      },
      "execution_count": 9,
      "outputs": [
        {
          "output_type": "stream",
          "name": "stdout",
          "text": [
            "country_code     object\n",
            "country_name     object\n",
            "continent        object\n",
            "2010            float64\n",
            "2011            float64\n",
            "2012            float64\n",
            "2013            float64\n",
            "2014            float64\n",
            "2015            float64\n",
            "2016            float64\n",
            "2017            float64\n",
            "2018            float64\n",
            "2019            float64\n",
            "2020            float64\n",
            "2021            float64\n",
            "dtype: object\n"
          ]
        }
      ]
    },
    {
      "cell_type": "markdown",
      "source": [
        "**Validating continents**\n",
        "Your colleague has informed you that the data on unemployment from countries in Oceania is not reliable, and you'd like to identify and exclude these countries from your unemployment data. The .isin() function can help with that!\n",
        "\n",
        "Your task is to use .isin() to identify countries that are not in Oceania. These countries should return True while countries in Oceania should return False. This will set you up to use the results of .isin() to quickly filter out Oceania countries using Boolean indexing."
      ],
      "metadata": {
        "id": "UfHF0YRjMd2-"
      }
    },
    {
      "cell_type": "markdown",
      "source": [
        "- Define a Series of Booleans describing whether or not each continent is outside of Oceania; call this Series not_oceania."
      ],
      "metadata": {
        "id": "q77CzYZAMf2B"
      }
    },
    {
      "cell_type": "code",
      "source": [
        "# Define a Series describing whether each continent is outside of Oceania\n",
        "not_oceania = ~unemployment[\"continent\"].isin([\"Oceania\"])\n",
        "\n",
        "# Print unemployment without records related to countries in Oceania\n",
        "print(unemployment[not_oceania])\n",
        "\n",
        "# You validated categorical data and used your .isin() validation to then exclude\n",
        "# data that you weren't interested in! Filtering out data that you don't need at\n",
        "# the start of your EDA process is a great way to organize yourself for the exploration yet to come."
      ],
      "metadata": {
        "id": "_Smxe6iZMis3"
      },
      "execution_count": null,
      "outputs": []
    },
    {
      "cell_type": "markdown",
      "source": [
        "**Validating range**  \n",
        "Now it's time to validate our numerical data. We saw in the previous lesson using .describe() that the largest unemployment rate during 2021 was nearly 34 percent, while the lowest was just above zero.\n",
        "\n",
        "Your task in this exercise is to get much more detailed information about the range of unemployment data using Seaborn's boxplot, and you'll also visualize the range of unemployment rates in each continent to understand geographical range differences."
      ],
      "metadata": {
        "id": "SsVxYBKbOSVc"
      }
    },
    {
      "cell_type": "code",
      "source": [
        "# Print the minimum and maximum unemployment rates during 2021\n",
        "print(unemployment[\"2021\"].min(), unemployment[\"2021\"].max())\n",
        "\n",
        "# Create a boxplot of 2021 unemployment rates, broken down by continent\n",
        "sns.boxplot(data=unemployment, x=\"2021\", y=\"continent\")\n",
        "plt.show()\n",
        "\n",
        "# Notice how different the ranges in unemployment are between continents. For\n",
        "# example, Africa's 50th percentile is lower than that of North America, but the\n",
        "# range is much wider."
      ],
      "metadata": {
        "collapsed": true,
        "id": "2Jg5UZAFOWHP",
        "outputId": "baad5f69-2e6a-4c33-f088-8b71f38105c1",
        "colab": {
          "base_uri": "https://localhost:8080/",
          "height": 466
        }
      },
      "execution_count": 10,
      "outputs": [
        {
          "output_type": "stream",
          "name": "stdout",
          "text": [
            "0.26 33.56\n"
          ]
        },
        {
          "output_type": "display_data",
          "data": {
            "text/plain": [
              "<Figure size 640x480 with 1 Axes>"
            ],
            "image/png": "[encoded data removed]"
          },
          "metadata": {}
        }
      ]
    },
    {
      "cell_type": "markdown",
      "source": [
        "### Data Summarization"
      ],
      "metadata": {
        "id": "Wrkn9AMQQSES"
      }
    },
    {
      "cell_type": "markdown",
      "source": [
        "**Summaries with .groupby() and .agg()**  \n",
        "In this exercise, you'll explore the means and standard deviations of the yearly unemployment data. First, you'll find means and standard deviations regardless of the continent to observe worldwide unemployment trends. Then, you'll check unemployment trends broken down by continent."
      ],
      "metadata": {
        "id": "3u4IHRMYQVoW"
      }
    },
    {
      "cell_type": "code",
      "source": [
        "# Print mean and standard deviation grouped by continent\n",
        "print(unemployment[[\"continent\", \"2019\", \"2020\"]].groupby(\"continent\").agg([\"mean\", \"std\"]))\n",
        "\n",
        "# This data is well-summarized, but it's a little long. What if you wanted to\n",
        "# focus on a summary for just one year and make it more readable?"
      ],
      "metadata": {
        "collapsed": true,
        "id": "aTV_6OA-QbZ-",
        "outputId": "b2aa86bf-0787-4676-abb3-b791336ef57d",
        "colab": {
          "base_uri": "https://localhost:8080/"
        }
      },
      "execution_count": 11,
      "outputs": [
        {
          "output_type": "stream",
          "name": "stdout",
          "text": [
            "                   2019                 2020          \n",
            "                   mean       std       mean       std\n",
            "continent                                             \n",
            "Africa         9.264340  7.455293  10.307736  7.928166\n",
            "Asia           5.949149  5.254008   7.012340  5.699609\n",
            "Europe         6.764359  4.124734   7.470513  4.071218\n",
            "North America  7.095000  4.770490   9.297778  4.963045\n",
            "Oceania        3.773750  2.369068   4.273750  2.617490\n",
            "South America  7.719167  3.379845  10.275000  3.411263\n"
          ]
        }
      ]
    },
    {
      "cell_type": "markdown",
      "source": [
        "**Named aggregations**  \n",
        "You've seen how .groupby() and .agg() can be combined to show summaries across categories. Sometimes, it's helpful to name new columns when aggregating so that it's clear in the code output what aggregations are being applied and where.\n",
        "\n",
        "Your task is to create a DataFrame called continent_summary which shows a row for each continent. The DataFrame columns will contain the mean unemployment rate for each continent in 2021 as well as the standard deviation of the 2021 employment rate. And of course, you'll rename the columns so that their contents are clear!"
      ],
      "metadata": {
        "id": "UJd5Q2TMQ-mF"
      }
    },
    {
      "cell_type": "code",
      "source": [
        "continent_summary = unemployment.groupby(\"continent\").agg(\n",
        "    # Create the mean_rate_2021 column\n",
        "    mean_rate_2021=(\"2021\", \"mean\"),\n",
        "    # Create the std_rate_2021 column\n",
        "    std_rate_2021=(\"2021\", \"std\")\n",
        ")\n",
        "print(continent_summary)\n",
        "\n",
        "# uper summarizing! Average 2021 unemployment varied widely by continent, and so did the unemployment within those continents."
      ],
      "metadata": {
        "id": "4ZUTuUYqREwW"
      },
      "execution_count": null,
      "outputs": []
    },
    {
      "cell_type": "markdown",
      "source": [
        "**Visualizing categorical summaries**  \n",
        "As you've learned in this chapter, Seaborn has many great visualizations for exploration, including a bar plot for displaying an aggregated average value by category of data.\n",
        "\n",
        "In Seaborn, bar plots include a vertical bar indicating the 95% confidence interval for the categorical mean. Since confidence intervals are calculated using both the number of values and the variability of those values, they give a helpful indication of how much data can be relied upon."
      ],
      "metadata": {
        "id": "_Xm9eRr8RgUH"
      }
    },
    {
      "cell_type": "code",
      "source": [
        "# Create a bar plot of continents and their average unemployment\n",
        "sns.barplot(data=unemployment, x=\"continent\", y=\"2021\")\n",
        "plt.show()\n",
        "\n",
        "# Way to go. While Europe has higher average unemployment than Asia, it also has a smaller confidence interval for that average, so the average value is more reliable."
      ],
      "metadata": {
        "collapsed": true,
        "id": "rF9yF9fARkho",
        "outputId": "ab1b41e3-024a-4c22-b81c-f96732601c47",
        "colab": {
          "base_uri": "https://localhost:8080/",
          "height": 449
        }
      },
      "execution_count": 13,
      "outputs": [
        {
          "output_type": "display_data",
          "data": {
            "text/plain": [
              "<Figure size 640x480 with 1 Axes>"
            ],
            "image/png": "[encoded data removed]"
          },
          "metadata": {}
        }
      ]
    }
  ]
}