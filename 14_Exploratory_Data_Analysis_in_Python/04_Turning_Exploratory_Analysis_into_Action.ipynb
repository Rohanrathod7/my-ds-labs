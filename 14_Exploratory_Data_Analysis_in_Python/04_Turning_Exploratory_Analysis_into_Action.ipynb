{
  "nbformat": 4,
  "nbformat_minor": 0,
  "metadata": {
    "colab": {
      "provenance": [],
      "authorship_tag": "ABX9TyOEasjHLGnq+PtJnOiS8pi8",
      "include_colab_link": true
    },
    "kernelspec": {
      "name": "python3",
      "display_name": "Python 3"
    },
    "language_info": {
      "name": "python"
    }
  },
  "cells": [
    {
      "cell_type": "markdown",
      "metadata": {
        "id": "view-in-github",
        "colab_type": "text"
      },
      "source": [
        "<a href=\"https://colab.research.google.com/github/Rohanrathod7/my-ds-labs/blob/main/14_Exploratory_Data_Analysis_in_Python/04_Turning_Exploratory_Analysis_into_Action.ipynb\" target=\"_parent\"><img src=\"https://colab.research.google.com/assets/colab-badge.svg\" alt=\"Open In Colab\"/></a>"
      ]
    },
    {
      "cell_type": "code",
      "execution_count": 2,
      "metadata": {
        "id": "J88byI6PHI8O"
      },
      "outputs": [],
      "source": [
        "import matplotlib.pyplot as plt\n",
        "import seaborn as sns\n",
        "import numpy as np\n",
        "import pandas as pd\n",
        "\n"
      ]
    },
    {
      "cell_type": "code",
      "source": [
        "url = \"https://raw.githubusercontent.com/Rohanrathod7/my-ds-labs/main/14_Exploratory_Data_Analysis_in_Python/dataset/salaries.csv\"\n",
        "salaries = pd.read_csv(url)\n",
        "display(salaries.head())\n",
        "salaries[\"date_of_response\"] = pd.to_datetime(salaries[\"date_of_response\"])"
      ],
      "metadata": {
        "id": "fgPMf-jl6pjn",
        "collapsed": true,
        "colab": {
          "base_uri": "https://localhost:8080/",
          "height": 330
        },
        "outputId": "296df58d-cdaa-4219-bf1c-956241be8103"
      },
      "execution_count": 15,
      "outputs": [
        {
          "output_type": "display_data",
          "data": {
            "text/plain": [
              "                      Designation date_of_response Experience  \\\n",
              "0      Machine Learning Scientist       2020-01-07         SE   \n",
              "1               Big Data Engineer       2020-09-19         SE   \n",
              "2            Product Data Analyst       2020-11-21         MI   \n",
              "3       Machine Learning Engineer       2020-11-29         SE   \n",
              "4                    Data Analyst       2020-09-07         EN   \n",
              "\n",
              "  Employment_Status  Salary_In_Rupees Employee_Location Company_Location  \\\n",
              "0                FT        20688070.0                JP               JP   \n",
              "1                FT         8674985.0                GB               GB   \n",
              "2                FT         1591390.0                HN               HN   \n",
              "3                FT        11935425.0                US               US   \n",
              "4                FT         5729004.0                US               US   \n",
              "\n",
              "  Company_Size  Remote_Working_Ratio  Salary_USD      Job_Category  month  \\\n",
              "0            S                   0.0  248256.840  Machine Learning      1   \n",
              "1            M                  50.0  104099.820  Data Engineering      9   \n",
              "2            S                   0.0   19096.680    Data Analytics     11   \n",
              "3            L                  50.0  143225.100  Machine Learning     11   \n",
              "4            L                 100.0   68748.048    Data Analytics      9   \n",
              "\n",
              "   weekday  \n",
              "0        1  \n",
              "1        5  \n",
              "2        5  \n",
              "3        6  \n",
              "4        0  "
            ],
            "text/html": [
              "\n",
              "  <div id=\"df-c7c426bc-55ab-4f6c-a83c-c14920b7e90a\" class=\"colab-df-container\">\n",
              "    <div>\n",
              "<style scoped>\n",
              "    .dataframe tbody tr th:only-of-type {\n",
              "        vertical-align: middle;\n",
              "    }\n",
              "\n",
              "    .dataframe tbody tr th {\n",
              "        vertical-align: top;\n",
              "    }\n",
              "\n",
              "    .dataframe thead th {\n",
              "        text-align: right;\n",
              "    }\n",
              "</style>\n",
              "<table border=\"1\" class=\"dataframe\">\n",
              "  <thead>\n",
              "    <tr style=\"text-align: right;\">\n",
              "      <th></th>\n",
              "      <th>Designation</th>\n",
              "      <th>date_of_response</th>\n",
              "      <th>Experience</th>\n",
              "      <th>Employment_Status</th>\n",
              "      <th>Salary_In_Rupees</th>\n",
              "      <th>Employee_Location</th>\n",
              "      <th>Company_Location</th>\n",
              "      <th>Company_Size</th>\n",
              "      <th>Remote_Working_Ratio</th>\n",
              "      <th>Salary_USD</th>\n",
              "      <th>Job_Category</th>\n",
              "      <th>month</th>\n",
              "      <th>weekday</th>\n",
              "    </tr>\n",
              "  </thead>\n",
              "  <tbody>\n",
              "    <tr>\n",
              "      <th>0</th>\n",
              "      <td>Machine Learning Scientist</td>\n",
              "      <td>2020-01-07</td>\n",
              "      <td>SE</td>\n",
              "      <td>FT</td>\n",
              "      <td>20688070.0</td>\n",
              "      <td>JP</td>\n",
              "      <td>JP</td>\n",
              "      <td>S</td>\n",
              "      <td>0.0</td>\n",
              "      <td>248256.840</td>\n",
              "      <td>Machine Learning</td>\n",
              "      <td>1</td>\n",
              "      <td>1</td>\n",
              "    </tr>\n",
              "    <tr>\n",
              "      <th>1</th>\n",
              "      <td>Big Data Engineer</td>\n",
              "      <td>2020-09-19</td>\n",
              "      <td>SE</td>\n",
              "      <td>FT</td>\n",
              "      <td>8674985.0</td>\n",
              "      <td>GB</td>\n",
              "      <td>GB</td>\n",
              "      <td>M</td>\n",
              "      <td>50.0</td>\n",
              "      <td>104099.820</td>\n",
              "      <td>Data Engineering</td>\n",
              "      <td>9</td>\n",
              "      <td>5</td>\n",
              "    </tr>\n",
              "    <tr>\n",
              "      <th>2</th>\n",
              "      <td>Product Data Analyst</td>\n",
              "      <td>2020-11-21</td>\n",
              "      <td>MI</td>\n",
              "      <td>FT</td>\n",
              "      <td>1591390.0</td>\n",
              "      <td>HN</td>\n",
              "      <td>HN</td>\n",
              "      <td>S</td>\n",
              "      <td>0.0</td>\n",
              "      <td>19096.680</td>\n",
              "      <td>Data Analytics</td>\n",
              "      <td>11</td>\n",
              "      <td>5</td>\n",
              "    </tr>\n",
              "    <tr>\n",
              "      <th>3</th>\n",
              "      <td>Machine Learning Engineer</td>\n",
              "      <td>2020-11-29</td>\n",
              "      <td>SE</td>\n",
              "      <td>FT</td>\n",
              "      <td>11935425.0</td>\n",
              "      <td>US</td>\n",
              "      <td>US</td>\n",
              "      <td>L</td>\n",
              "      <td>50.0</td>\n",
              "      <td>143225.100</td>\n",
              "      <td>Machine Learning</td>\n",
              "      <td>11</td>\n",
              "      <td>6</td>\n",
              "    </tr>\n",
              "    <tr>\n",
              "      <th>4</th>\n",
              "      <td>Data Analyst</td>\n",
              "      <td>2020-09-07</td>\n",
              "      <td>EN</td>\n",
              "      <td>FT</td>\n",
              "      <td>5729004.0</td>\n",
              "      <td>US</td>\n",
              "      <td>US</td>\n",
              "      <td>L</td>\n",
              "      <td>100.0</td>\n",
              "      <td>68748.048</td>\n",
              "      <td>Data Analytics</td>\n",
              "      <td>9</td>\n",
              "      <td>0</td>\n",
              "    </tr>\n",
              "  </tbody>\n",
              "</table>\n",
              "</div>\n",
              "    <div class=\"colab-df-buttons\">\n",
              "\n",
              "  <div class=\"colab-df-container\">\n",
              "    <button class=\"colab-df-convert\" onclick=\"convertToInteractive('df-c7c426bc-55ab-4f6c-a83c-c14920b7e90a')\"\n",
              "            title=\"Convert this dataframe to an interactive table.\"\n",
              "            style=\"display:none;\">\n",
              "\n",
              "  <svg xmlns=\"http://www.w3.org/2000/svg\" height=\"24px\" viewBox=\"0 -960 960 960\">\n",
              "    <path d=\"M120-120v-720h720v720H120Zm60-500h600v-160H180v160Zm220 220h160v-160H400v160Zm0 220h160v-160H400v160ZM180-400h160v-160H180v160Zm440 0h160v-160H620v160ZM180-180h160v-160H180v160Zm440 0h160v-160H620v160Z\"/>\n",
              "  </svg>\n",
              "    </button>\n",
              "\n",
              "  <style>\n",
              "    .colab-df-container {\n",
              "      display:flex;\n",
              "      gap: 12px;\n",
              "    }\n",
              "\n",
              "    .colab-df-convert {\n",
              "      background-color: #E8F0FE;\n",
              "      border: none;\n",
              "      border-radius: 50%;\n",
              "      cursor: pointer;\n",
              "      display: none;\n",
              "      fill: #1967D2;\n",
              "      height: 32px;\n",
              "      padding: 0 0 0 0;\n",
              "      width: 32px;\n",
              "    }\n",
              "\n",
              "    .colab-df-convert:hover {\n",
              "      background-color: #E2EBFA;\n",
              "      box-shadow: 0px 1px 2px rgba(60, 64, 67, 0.3), 0px 1px 3px 1px rgba(60, 64, 67, 0.15);\n",
              "      fill: #174EA6;\n",
              "    }\n",
              "\n",
              "    .colab-df-buttons div {\n",
              "      margin-bottom: 4px;\n",
              "    }\n",
              "\n",
              "    [theme=dark] .colab-df-convert {\n",
              "      background-color: #3B4455;\n",
              "      fill: #D2E3FC;\n",
              "    }\n",
              "\n",
              "    [theme=dark] .colab-df-convert:hover {\n",
              "      background-color: #434B5C;\n",
              "      box-shadow: 0px 1px 3px 1px rgba(0, 0, 0, 0.15);\n",
              "      filter: drop-shadow(0px 1px 2px rgba(0, 0, 0, 0.3));\n",
              "      fill: #FFFFFF;\n",
              "    }\n",
              "  </style>\n",
              "\n",
              "    <script>\n",
              "      const buttonEl =\n",
              "        document.querySelector('#df-c7c426bc-55ab-4f6c-a83c-c14920b7e90a button.colab-df-convert');\n",
              "      buttonEl.style.display =\n",
              "        google.colab.kernel.accessAllowed ? 'block' : 'none';\n",
              "\n",
              "      async function convertToInteractive(key) {\n",
              "        const element = document.querySelector('#df-c7c426bc-55ab-4f6c-a83c-c14920b7e90a');\n",
              "        const dataTable =\n",
              "          await google.colab.kernel.invokeFunction('convertToInteractive',\n",
              "                                                    [key], {});\n",
              "        if (!dataTable) return;\n",
              "\n",
              "        const docLinkHtml = 'Like what you see? Visit the ' +\n",
              "          '<a target=\"_blank\" href=https://colab.research.google.com/notebooks/data_table.ipynb>data table notebook</a>'\n",
              "          + ' to learn more about interactive tables.';\n",
              "        element.innerHTML = '';\n",
              "        dataTable['output_type'] = 'display_data';\n",
              "        await google.colab.output.renderOutput(dataTable, element);\n",
              "        const docLink = document.createElement('div');\n",
              "        docLink.innerHTML = docLinkHtml;\n",
              "        element.appendChild(docLink);\n",
              "      }\n",
              "    </script>\n",
              "  </div>\n",
              "\n",
              "\n",
              "    <div id=\"df-4baaf4d0-0c30-4bda-8799-e2f1dd133a8a\">\n",
              "      <button class=\"colab-df-quickchart\" onclick=\"quickchart('df-4baaf4d0-0c30-4bda-8799-e2f1dd133a8a')\"\n",
              "                title=\"Suggest charts\"\n",
              "                style=\"display:none;\">\n",
              "\n",
              "<svg xmlns=\"http://www.w3.org/2000/svg\" height=\"24px\"viewBox=\"0 0 24 24\"\n",
              "     width=\"24px\">\n",
              "    <g>\n",
              "        <path d=\"M19 3H5c-1.1 0-2 .9-2 2v14c0 1.1.9 2 2 2h14c1.1 0 2-.9 2-2V5c0-1.1-.9-2-2-2zM9 17H7v-7h2v7zm4 0h-2V7h2v10zm4 0h-2v-4h2v4z\"/>\n",
              "    </g>\n",
              "</svg>\n",
              "      </button>\n",
              "\n",
              "<style>\n",
              "  .colab-df-quickchart {\n",
              "      --bg-color: #E8F0FE;\n",
              "      --fill-color: #1967D2;\n",
              "      --hover-bg-color: #E2EBFA;\n",
              "      --hover-fill-color: #174EA6;\n",
              "      --disabled-fill-color: #AAA;\n",
              "      --disabled-bg-color: #DDD;\n",
              "  }\n",
              "\n",
              "  [theme=dark] .colab-df-quickchart {\n",
              "      --bg-color: #3B4455;\n",
              "      --fill-color: #D2E3FC;\n",
              "      --hover-bg-color: #434B5C;\n",
              "      --hover-fill-color: #FFFFFF;\n",
              "      --disabled-bg-color: #3B4455;\n",
              "      --disabled-fill-color: #666;\n",
              "  }\n",
              "\n",
              "  .colab-df-quickchart {\n",
              "    background-color: var(--bg-color);\n",
              "    border: none;\n",
              "    border-radius: 50%;\n",
              "    cursor: pointer;\n",
              "    display: none;\n",
              "    fill: var(--fill-color);\n",
              "    height: 32px;\n",
              "    padding: 0;\n",
              "    width: 32px;\n",
              "  }\n",
              "\n",
              "  .colab-df-quickchart:hover {\n",
              "    background-color: var(--hover-bg-color);\n",
              "    box-shadow: 0 1px 2px rgba(60, 64, 67, 0.3), 0 1px 3px 1px rgba(60, 64, 67, 0.15);\n",
              "    fill: var(--button-hover-fill-color);\n",
              "  }\n",
              "\n",
              "  .colab-df-quickchart-complete:disabled,\n",
              "  .colab-df-quickchart-complete:disabled:hover {\n",
              "    background-color: var(--disabled-bg-color);\n",
              "    fill: var(--disabled-fill-color);\n",
              "    box-shadow: none;\n",
              "  }\n",
              "\n",
              "  .colab-df-spinner {\n",
              "    border: 2px solid var(--fill-color);\n",
              "    border-color: transparent;\n",
              "    border-bottom-color: var(--fill-color);\n",
              "    animation:\n",
              "      spin 1s steps(1) infinite;\n",
              "  }\n",
              "\n",
              "  @keyframes spin {\n",
              "    0% {\n",
              "      border-color: transparent;\n",
              "      border-bottom-color: var(--fill-color);\n",
              "      border-left-color: var(--fill-color);\n",
              "    }\n",
              "    20% {\n",
              "      border-color: transparent;\n",
              "      border-left-color: var(--fill-color);\n",
              "      border-top-color: var(--fill-color);\n",
              "    }\n",
              "    30% {\n",
              "      border-color: transparent;\n",
              "      border-left-color: var(--fill-color);\n",
              "      border-top-color: var(--fill-color);\n",
              "      border-right-color: var(--fill-color);\n",
              "    }\n",
              "    40% {\n",
              "      border-color: transparent;\n",
              "      border-right-color: var(--fill-color);\n",
              "      border-top-color: var(--fill-color);\n",
              "    }\n",
              "    60% {\n",
              "      border-color: transparent;\n",
              "      border-right-color: var(--fill-color);\n",
              "    }\n",
              "    80% {\n",
              "      border-color: transparent;\n",
              "      border-right-color: var(--fill-color);\n",
              "      border-bottom-color: var(--fill-color);\n",
              "    }\n",
              "    90% {\n",
              "      border-color: transparent;\n",
              "      border-bottom-color: var(--fill-color);\n",
              "    }\n",
              "  }\n",
              "</style>\n",
              "\n",
              "      <script>\n",
              "        async function quickchart(key) {\n",
              "          const quickchartButtonEl =\n",
              "            document.querySelector('#' + key + ' button');\n",
              "          quickchartButtonEl.disabled = true;  // To prevent multiple clicks.\n",
              "          quickchartButtonEl.classList.add('colab-df-spinner');\n",
              "          try {\n",
              "            const charts = await google.colab.kernel.invokeFunction(\n",
              "                'suggestCharts', [key], {});\n",
              "          } catch (error) {\n",
              "            console.error('Error during call to suggestCharts:', error);\n",
              "          }\n",
              "          quickchartButtonEl.classList.remove('colab-df-spinner');\n",
              "          quickchartButtonEl.classList.add('colab-df-quickchart-complete');\n",
              "        }\n",
              "        (() => {\n",
              "          let quickchartButtonEl =\n",
              "            document.querySelector('#df-4baaf4d0-0c30-4bda-8799-e2f1dd133a8a button');\n",
              "          quickchartButtonEl.style.display =\n",
              "            google.colab.kernel.accessAllowed ? 'block' : 'none';\n",
              "        })();\n",
              "      </script>\n",
              "    </div>\n",
              "\n",
              "    </div>\n",
              "  </div>\n"
            ],
            "application/vnd.google.colaboratory.intrinsic+json": {
              "type": "dataframe",
              "summary": "{\n  \"name\": \"salaries[\\\"date_of_response\\\"] = pd\",\n  \"rows\": 5,\n  \"fields\": [\n    {\n      \"column\": \"Designation\",\n      \"properties\": {\n        \"dtype\": \"string\",\n        \"num_unique_values\": 5,\n        \"samples\": [\n          \"    Big Data Engineer\",\n          \"    Data Analyst\",\n          \"    Product Data Analyst\"\n        ],\n        \"semantic_type\": \"\",\n        \"description\": \"\"\n      }\n    },\n    {\n      \"column\": \"date_of_response\",\n      \"properties\": {\n        \"dtype\": \"object\",\n        \"num_unique_values\": 5,\n        \"samples\": [\n          \"2020-09-19\",\n          \"2020-09-07\",\n          \"2020-11-21\"\n        ],\n        \"semantic_type\": \"\",\n        \"description\": \"\"\n      }\n    },\n    {\n      \"column\": \"Experience\",\n      \"properties\": {\n        \"dtype\": \"string\",\n        \"num_unique_values\": 3,\n        \"samples\": [\n          \"SE\",\n          \"MI\",\n          \"EN\"\n        ],\n        \"semantic_type\": \"\",\n        \"description\": \"\"\n      }\n    },\n    {\n      \"column\": \"Employment_Status\",\n      \"properties\": {\n        \"dtype\": \"category\",\n        \"num_unique_values\": 1,\n        \"samples\": [\n          \"FT\"\n        ],\n        \"semantic_type\": \"\",\n        \"description\": \"\"\n      }\n    },\n    {\n      \"column\": \"Salary_In_Rupees\",\n      \"properties\": {\n        \"dtype\": \"number\",\n        \"std\": 7216318.350867893,\n        \"min\": 1591390.0,\n        \"max\": 20688070.0,\n        \"num_unique_values\": 5,\n        \"samples\": [\n          8674985.0\n        ],\n        \"semantic_type\": \"\",\n        \"description\": \"\"\n      }\n    },\n    {\n      \"column\": \"Employee_Location\",\n      \"properties\": {\n        \"dtype\": \"string\",\n        \"num_unique_values\": 4,\n        \"samples\": [\n          \"GB\"\n        ],\n        \"semantic_type\": \"\",\n        \"description\": \"\"\n      }\n    },\n    {\n      \"column\": \"Company_Location\",\n      \"properties\": {\n        \"dtype\": \"string\",\n        \"num_unique_values\": 4,\n        \"samples\": [\n          \"GB\"\n        ],\n        \"semantic_type\": \"\",\n        \"description\": \"\"\n      }\n    },\n    {\n      \"column\": \"Company_Size\",\n      \"properties\": {\n        \"dtype\": \"string\",\n        \"num_unique_values\": 3,\n        \"samples\": [\n          \"S\"\n        ],\n        \"semantic_type\": \"\",\n        \"description\": \"\"\n      }\n    },\n    {\n      \"column\": \"Remote_Working_Ratio\",\n      \"properties\": {\n        \"dtype\": \"number\",\n        \"std\": 41.83300132670378,\n        \"min\": 0.0,\n        \"max\": 100.0,\n        \"num_unique_values\": 3,\n        \"samples\": [\n          0.0\n        ],\n        \"semantic_type\": \"\",\n        \"description\": \"\"\n      }\n    },\n    {\n      \"column\": \"Salary_USD\",\n      \"properties\": {\n        \"dtype\": \"number\",\n        \"std\": 86595.8202104147,\n        \"min\": 19096.68,\n        \"max\": 248256.84,\n        \"num_unique_values\": 5,\n        \"samples\": [\n          104099.82\n        ],\n        \"semantic_type\": \"\",\n        \"description\": \"\"\n      }\n    },\n    {\n      \"column\": \"Job_Category\",\n      \"properties\": {\n        \"dtype\": \"string\",\n        \"num_unique_values\": 3,\n        \"samples\": [\n          \"Machine Learning\"\n        ],\n        \"semantic_type\": \"\",\n        \"description\": \"\"\n      }\n    },\n    {\n      \"column\": \"month\",\n      \"properties\": {\n        \"dtype\": \"number\",\n        \"std\": 4,\n        \"min\": 1,\n        \"max\": 11,\n        \"num_unique_values\": 3,\n        \"samples\": [\n          1\n        ],\n        \"semantic_type\": \"\",\n        \"description\": \"\"\n      }\n    },\n    {\n      \"column\": \"weekday\",\n      \"properties\": {\n        \"dtype\": \"number\",\n        \"std\": 2,\n        \"min\": 0,\n        \"max\": 6,\n        \"num_unique_values\": 4,\n        \"samples\": [\n          5\n        ],\n        \"semantic_type\": \"\",\n        \"description\": \"\"\n      }\n    }\n  ]\n}"
            }
          },
          "metadata": {}
        }
      ]
    },
    {
      "cell_type": "markdown",
      "source": [
        "**Checking for class imbalance**  \n",
        "The 2022 Kaggle Survey captures information about data scientists' backgrounds, preferred technologies, and techniques. It is seen as an accurate view of what is happening in data science based on the volume and profile of responders.\n",
        "\n",
        "Having looked at the job titles and categorized to align with our salaries DataFrame, you can see the following proportion of job categories in the Kaggle survey:\n",
        "\n"
      ],
      "metadata": {
        "id": "98q3nShxTROI"
      }
    },
    {
      "cell_type": "code",
      "source": [
        "# Print the relative frequency of Job_Category\n",
        "print(salaries[\"Job_Category\"].value_counts(normalize=True))\n",
        "\n",
        "# Fantastic relative frequency calculation! It looks like Data Science is the most\n",
        "#  popular class and has a similar representation. Still, the other categories have\n",
        "#  quite different relative frequencies, which might not be surprising given the target\n",
        "#  audience is data scientists! Given the difference in relative frequencies, can you\n",
        "#   trust the salaries DataFrame to accurately represent Managerial roles?"
      ],
      "metadata": {
        "collapsed": true,
        "colab": {
          "base_uri": "https://localhost:8080/"
        },
        "id": "SEC9N56YTYG8",
        "outputId": "03531593-59a0-46e7-fbb6-e0b0200ade69"
      },
      "execution_count": 4,
      "outputs": [
        {
          "output_type": "stream",
          "name": "stdout",
          "text": [
            "Job_Category\n",
            "Data Science        0.277641\n",
            "Data Engineering    0.272727\n",
            "Data Analytics      0.226044\n",
            "Machine Learning    0.120393\n",
            "Other               0.068796\n",
            "Managerial          0.034398\n",
            "Name: proportion, dtype: float64\n"
          ]
        }
      ]
    },
    {
      "cell_type": "markdown",
      "source": [
        "**Cross-tabulation**  \n",
        "Cross-tabulation can help identify how observations occur in combination.\n",
        "\n",
        "Using the salaries dataset, which has been imported as a pandas DataFrame, you'll perform cross-tabulation on multiple variables, including the use of aggregation, to see the relationship between \"Company_Size\" and other variables."
      ],
      "metadata": {
        "id": "G07-Z3FIUE62"
      }
    },
    {
      "cell_type": "code",
      "source": [
        "# Cross-tabulate Company_Size and Experience\n",
        "print(pd.crosstab(salaries[\"Company_Size\"], salaries[\"Experience\"]))"
      ],
      "metadata": {
        "collapsed": true,
        "colab": {
          "base_uri": "https://localhost:8080/"
        },
        "id": "xvEyJtpCUHtq",
        "outputId": "38bb14f1-c6c6-4881-b7cd-036ac4aa154e"
      },
      "execution_count": 5,
      "outputs": [
        {
          "output_type": "stream",
          "name": "stdout",
          "text": [
            "Experience    EN  EX  MI   SE\n",
            "Company_Size                 \n",
            "L             24   7  49   44\n",
            "M             25   9  58  136\n",
            "S             18   1  21   15\n"
          ]
        }
      ]
    },
    {
      "cell_type": "code",
      "source": [
        "# Cross-tabulate Job_Category and Company_Size\n",
        "print(pd.crosstab(salaries[\"Job_Category\"], salaries[\"Company_Size\"],\n",
        "            values=salaries[\"Salary_USD\"], aggfunc=\"mean\"))\n",
        "\n",
        "# This is a handy function to examine the combination of frequencies, as well as\n",
        "# find aggregated statistics. Looks like the largest mean salary is for Managerial data roles in large companies!"
      ],
      "metadata": {
        "collapsed": true,
        "colab": {
          "base_uri": "https://localhost:8080/"
        },
        "id": "dV5IiiNWUkGy",
        "outputId": "726f4d05-ce1b-4cee-bda0-f91806016de3"
      },
      "execution_count": 10,
      "outputs": [
        {
          "output_type": "stream",
          "name": "stdout",
          "text": [
            "Company_Size                  L              M             S\n",
            "Job_Category                                                \n",
            "Data Analytics    112851.749217   95912.685246  53741.877000\n",
            "Data Engineering  118939.035000  121287.060500  86927.136000\n",
            "Data Science       96489.520105  116044.455864  62241.749250\n",
            "Machine Learning  140779.491529  100794.236842  78812.586462\n",
            "Managerial        190551.448800  150713.628000  31484.700000\n",
            "Other              92873.911385   89750.578667  69871.248000\n"
          ]
        }
      ]
    },
    {
      "cell_type": "markdown",
      "source": [
        "**Extracting features for correlation**  \n",
        "In this exercise, you'll work with a version of the salaries dataset containing a new column called \"date_of_response\".\n",
        "\n",
        "The dataset has been read in as a pandas DataFrame, with \"date_of_response\" as a datetime data type.\n",
        "\n",
        "Your task is to extract datetime attributes from this column and then create a heat map to visualize the correlation coefficients between variables."
      ],
      "metadata": {
        "id": "ef3ClKqOWTSH"
      }
    },
    {
      "cell_type": "code",
      "source": [
        "# Convert date_of_response to datetime objects\n",
        "salaries[\"date_of_response\"] = pd.to_datetime(salaries[\"date_of_response\"])\n",
        "\n",
        "# Get the month of the response\n",
        "salaries[\"month\"] = salaries[\"date_of_response\"].dt.month\n",
        "\n",
        "# Extract the weekday of the response\n",
        "salaries[\"weekday\"] = salaries[\"date_of_response\"].dt.weekday\n",
        "\n",
        "# Create a heatmap\n",
        "sns.heatmap(salaries.corr(numeric_only=True), annot=True)\n",
        "plt.show()"
      ],
      "metadata": {
        "colab": {
          "base_uri": "https://localhost:8080/",
          "height": 582
        },
        "id": "IZ2fiOnRWXm4",
        "outputId": "ba4249d5-2a7f-441f-f52d-943486f437a0"
      },
      "execution_count": 16,
      "outputs": [
        {
          "output_type": "display_data",
          "data": {
            "text/plain": [
              "<Figure size 640x480 with 2 Axes>"
            ],
            "image/png": "[encoded data removed]"
          },
          "metadata": {}
        }
      ]
    },
    {
      "cell_type": "markdown",
      "source": [
        "**Calculating salary percentiles**  \n",
        "In the video, you saw that the conversion of numeric data into categories sometimes makes it easier to identify patterns.\n",
        "\n",
        "Your task is to convert the \"Salary_USD\" column into categories based on its percentiles. First, you need to find the percentiles and store them as variables."
      ],
      "metadata": {
        "id": "HAeH_6gRYIwy"
      }
    },
    {
      "cell_type": "code",
      "source": [
        "# Find the 25th percentile\n",
        "twenty_fifth = salaries[\"Salary_USD\"].quantile(0.25)\n",
        "\n",
        "# Save the median\n",
        "salaries_median = salaries[\"Salary_USD\"].quantile(0.50)\n",
        "\n",
        "# Gather the 75th percentile\n",
        "seventy_fifth = salaries[\"Salary_USD\"].quantile(0.75)\n",
        "print(twenty_fifth, salaries_median, seventy_fifth)\n",
        "\n",
        "\n",
        "# Looks like the interquartile range is between 60,881 and 143,225 dollars! Now\n",
        "# let's use these variables to add a categorical salary column into the DataFrame!"
      ],
      "metadata": {
        "id": "XArW8iqDYK7f",
        "outputId": "9dce5951-5eac-48e4-b22b-058051cbb9d9",
        "colab": {
          "base_uri": "https://localhost:8080/"
        }
      },
      "execution_count": 17,
      "outputs": [
        {
          "output_type": "stream",
          "name": "stdout",
          "text": [
            "60880.691999999995 97488.552 143225.1\n"
          ]
        }
      ]
    },
    {
      "cell_type": "markdown",
      "source": [
        "**Categorizing salaries**  \n",
        "Now it's time to make a new category! You'll use the variables twenty_fifth, salaries_median, and seventy_fifth, that you created in the previous exercise, to split salaries into different labels.\n",
        "\n",
        "The result will be a new column called \"salary_level\", which you'll incorporate into a visualization to analyze survey respondents' salary and at companies of different sizes."
      ],
      "metadata": {
        "id": "w-aE9mgaa9pk"
      }
    },
    {
      "cell_type": "code",
      "source": [
        "# Create salary labels\n",
        "salary_labels = [\"entry\", \"mid\", \"senior\", \"exec\"]\n",
        "\n",
        "# Create the salary ranges list\n",
        "salary_ranges = [0, twenty_fifth, salaries_median, seventy_fifth, salaries[\"Salary_USD\"].max()]\n",
        "\n",
        "# Create salary_level\n",
        "salaries[\"salary_level\"] = pd.cut(salaries[\"Salary_USD\"],\n",
        "                                  bins=salary_ranges,\n",
        "                                  labels=salary_labels)\n",
        "\n",
        "# Plot the count of salary levels at companies of different sizes\n",
        "sns.countplot(data=salaries, x=\"Company_Size\", hue=\"salary_level\")\n",
        "plt.show()\n",
        "\n",
        "# By using pd.cut() to split out numeric data into categories, you can see that a\n",
        "# large proportion of workers at small companies get paid \"entry\" level salaries,\n",
        "# while more staff at medium-sized companies are rewarded with \"senior\" level\n",
        "# salary. Now let's look at generating hypotheses as you reach the end of the EDA phase!"
      ],
      "metadata": {
        "id": "wSl0dxK1bAkd",
        "outputId": "1d21a5a5-4f02-413e-f797-8a6dcdb40f66",
        "colab": {
          "base_uri": "https://localhost:8080/",
          "height": 450
        }
      },
      "execution_count": 18,
      "outputs": [
        {
          "output_type": "display_data",
          "data": {
            "text/plain": [
              "<Figure size 640x480 with 1 Axes>"
            ],
            "image/png": "[encoded data removed]"
          },
          "metadata": {}
        }
      ]
    },
    {
      "cell_type": "markdown",
      "source": [
        "**Comparing salaries**  \n",
        "Exploratory data analysis is a crucial step in generating hypotheses!\n",
        "\n",
        "You've had an idea you'd like to explore—do data professionals get paid more in the USA than they do in Great Britain?\n",
        "\n",
        "You'll need to subset the data by \"Employee_Location\" and produce a plot displaying the average salary between the two groups.\n",
        "\n",
        "The salaries DataFrame has been imported as a pandas DataFrame."
      ],
      "metadata": {
        "id": "r0BJF9cecWIF"
      }
    },
    {
      "cell_type": "code",
      "source": [
        "# Filter for employees in the US or GB\n",
        "usa_and_gb = salaries[salaries[\"Employee_Location\"].isin([\"US\", \"GB\"])]\n",
        "\n",
        "# Create a barplot of salaries by location\n",
        "sns.barplot(data=usa_and_gb, x=\"Employee_Location\", y=\"Salary_USD\")\n",
        "plt.show()\n",
        "\n",
        "# By subsetting the data you were able to directly compare salaries between the\n",
        "# USA and Great Britain. The visualization suggests you've generated a hypothesis\n",
        "# that is worth formally investigating to determine whether a real difference exists or not!"
      ],
      "metadata": {
        "id": "o1ypbNjPcaKA",
        "outputId": "08727c8d-d6e3-4fd3-9d2a-1163ea7691d7",
        "colab": {
          "base_uri": "https://localhost:8080/",
          "height": 450
        }
      },
      "execution_count": 19,
      "outputs": [
        {
          "output_type": "display_data",
          "data": {
            "text/plain": [
              "<Figure size 640x480 with 1 Axes>"
            ],
            "image/png": "[encoded data removed]"
          },
          "metadata": {}
        }
      ]
    },
    {
      "cell_type": "markdown",
      "source": [
        "**Choosing a hypothesis**  \n",
        "You've seen how visualizations can be used to generate hypotheses, making them a crucial part of exploratory data analysis!\n",
        "\n",
        "In this exercise, you'll generate a bar plot to inspect how salaries differ based on company size and employment status. For reference, there are four values:"
      ],
      "metadata": {
        "id": "WLlZQAtmcwiQ"
      }
    },
    {
      "cell_type": "code",
      "source": [
        "# Create a bar plot of salary versus company size, factoring in employment status\n",
        "sns.barplot(data=salaries, x=\"Company_Size\", y=\"Salary_USD\", hue=\"Employment_Status\")\n",
        "plt.show()"
      ],
      "metadata": {
        "id": "SBhsH4ZTc1nl",
        "outputId": "255d0555-237f-43c6-9e56-1d610d405002",
        "colab": {
          "base_uri": "https://localhost:8080/",
          "height": 450
        }
      },
      "execution_count": 20,
      "outputs": [
        {
          "output_type": "display_data",
          "data": {
            "text/plain": [
              "<Figure size 640x480 with 1 Axes>"
            ],
            "image/png": "[encoded data removed]"
          },
          "metadata": {}
        }
      ]
    },
    {
      "cell_type": "markdown",
      "source": [
        "**Question\n",
        "What is a reasonable hypothesis to generate based on this plot?**\n",
        "\n",
        "Possible answers\n",
        "\n",
        "\n",
        "- On average, small companies pay part-time employees less than large companies.\n",
        "\n",
        "- Freelancers earn more at medium-sized companies compared to small or large companies.\n",
        "\n",
        "- --On average, large companies pay contractors more than medium-sized companies.\n",
        "\n",
        "- No hypotheses can be generated from this plot."
      ],
      "metadata": {
        "id": "6k0is6LKc6MA"
      }
    }
  ]
}