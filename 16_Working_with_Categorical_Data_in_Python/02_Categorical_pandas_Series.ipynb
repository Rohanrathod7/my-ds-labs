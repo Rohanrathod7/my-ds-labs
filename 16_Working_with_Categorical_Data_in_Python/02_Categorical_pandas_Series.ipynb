{
  "nbformat": 4,
  "nbformat_minor": 0,
  "metadata": {
    "colab": {
      "provenance": [],
      "authorship_tag": "ABX9TyMLllu7Y9oa2U4uXE1PEr8H",
      "include_colab_link": true
    },
    "kernelspec": {
      "name": "python3",
      "display_name": "Python 3"
    },
    "language_info": {
      "name": "python"
    }
  },
  "cells": [
    {
      "cell_type": "markdown",
      "metadata": {
        "id": "view-in-github",
        "colab_type": "text"
      },
      "source": [
        "<a href=\"https://colab.research.google.com/github/Rohanrathod7/my-ds-labs/blob/main/16_Working_with_Categorical_Data_in_Python/02_Categorical_pandas_Series.ipynb\" target=\"_parent\"><img src=\"https://colab.research.google.com/assets/colab-badge.svg\" alt=\"Open In Colab\"/></a>"
      ]
    },
    {
      "cell_type": "code",
      "execution_count": 2,
      "metadata": {
        "id": "J88byI6PHI8O"
      },
      "outputs": [],
      "source": [
        "import matplotlib.pyplot as plt\n",
        "import seaborn as sns\n",
        "import numpy as np\n",
        "import pandas as pd\n",
        "\n"
      ]
    },
    {
      "cell_type": "code",
      "source": [
        "url = \"https://raw.githubusercontent.com/Rohanrathod7/my-ds-labs/main/16_Working_with_Categorical_Data_in_Python/dataset/adult.csv\"\n",
        "adult = pd.read_csv(url)\n",
        "display(adult.head())\n"
      ],
      "metadata": {
        "id": "fgPMf-jl6pjn",
        "collapsed": true,
        "colab": {
          "base_uri": "https://localhost:8080/",
          "height": 310
        },
        "outputId": "5755105b-8020-453e-8266-6eabd8831433"
      },
      "execution_count": 3,
      "outputs": [
        {
          "output_type": "display_data",
          "data": {
            "text/plain": [
              "   Age          Workclass  fnlgwt   Education  Education Num  \\\n",
              "0   39          State-gov   77516   Bachelors             13   \n",
              "1   50   Self-emp-not-inc   83311   Bachelors             13   \n",
              "2   38            Private  215646     HS-grad              9   \n",
              "3   53            Private  234721        11th              7   \n",
              "4   28            Private  338409   Bachelors             13   \n",
              "\n",
              "        Marital Status          Occupation    Relationship    Race      Sex  \\\n",
              "0        Never-married        Adm-clerical   Not-in-family   White     Male   \n",
              "1   Married-civ-spouse     Exec-managerial         Husband   White     Male   \n",
              "2             Divorced   Handlers-cleaners   Not-in-family   White     Male   \n",
              "3   Married-civ-spouse   Handlers-cleaners         Husband   Black     Male   \n",
              "4   Married-civ-spouse      Prof-specialty            Wife   Black   Female   \n",
              "\n",
              "   Capital Gain  Capital Loss  Hours/Week         Country Above/Below 50k  \n",
              "0          2174             0          40   United-States           <=50K  \n",
              "1             0             0          13   United-States           <=50K  \n",
              "2             0             0          40   United-States           <=50K  \n",
              "3             0             0          40   United-States           <=50K  \n",
              "4             0             0          40            Cuba           <=50K  "
            ],
            "text/html": [
              "\n",
              "  <div id=\"df-83d55da5-7a5a-49ce-a164-a0c7a151102d\" class=\"colab-df-container\">\n",
              "    <div>\n",
              "<style scoped>\n",
              "    .dataframe tbody tr th:only-of-type {\n",
              "        vertical-align: middle;\n",
              "    }\n",
              "\n",
              "    .dataframe tbody tr th {\n",
              "        vertical-align: top;\n",
              "    }\n",
              "\n",
              "    .dataframe thead th {\n",
              "        text-align: right;\n",
              "    }\n",
              "</style>\n",
              "<table border=\"1\" class=\"dataframe\">\n",
              "  <thead>\n",
              "    <tr style=\"text-align: right;\">\n",
              "      <th></th>\n",
              "      <th>Age</th>\n",
              "      <th>Workclass</th>\n",
              "      <th>fnlgwt</th>\n",
              "      <th>Education</th>\n",
              "      <th>Education Num</th>\n",
              "      <th>Marital Status</th>\n",
              "      <th>Occupation</th>\n",
              "      <th>Relationship</th>\n",
              "      <th>Race</th>\n",
              "      <th>Sex</th>\n",
              "      <th>Capital Gain</th>\n",
              "      <th>Capital Loss</th>\n",
              "      <th>Hours/Week</th>\n",
              "      <th>Country</th>\n",
              "      <th>Above/Below 50k</th>\n",
              "    </tr>\n",
              "  </thead>\n",
              "  <tbody>\n",
              "    <tr>\n",
              "      <th>0</th>\n",
              "      <td>39</td>\n",
              "      <td>State-gov</td>\n",
              "      <td>77516</td>\n",
              "      <td>Bachelors</td>\n",
              "      <td>13</td>\n",
              "      <td>Never-married</td>\n",
              "      <td>Adm-clerical</td>\n",
              "      <td>Not-in-family</td>\n",
              "      <td>White</td>\n",
              "      <td>Male</td>\n",
              "      <td>2174</td>\n",
              "      <td>0</td>\n",
              "      <td>40</td>\n",
              "      <td>United-States</td>\n",
              "      <td>&lt;=50K</td>\n",
              "    </tr>\n",
              "    <tr>\n",
              "      <th>1</th>\n",
              "      <td>50</td>\n",
              "      <td>Self-emp-not-inc</td>\n",
              "      <td>83311</td>\n",
              "      <td>Bachelors</td>\n",
              "      <td>13</td>\n",
              "      <td>Married-civ-spouse</td>\n",
              "      <td>Exec-managerial</td>\n",
              "      <td>Husband</td>\n",
              "      <td>White</td>\n",
              "      <td>Male</td>\n",
              "      <td>0</td>\n",
              "      <td>0</td>\n",
              "      <td>13</td>\n",
              "      <td>United-States</td>\n",
              "      <td>&lt;=50K</td>\n",
              "    </tr>\n",
              "    <tr>\n",
              "      <th>2</th>\n",
              "      <td>38</td>\n",
              "      <td>Private</td>\n",
              "      <td>215646</td>\n",
              "      <td>HS-grad</td>\n",
              "      <td>9</td>\n",
              "      <td>Divorced</td>\n",
              "      <td>Handlers-cleaners</td>\n",
              "      <td>Not-in-family</td>\n",
              "      <td>White</td>\n",
              "      <td>Male</td>\n",
              "      <td>0</td>\n",
              "      <td>0</td>\n",
              "      <td>40</td>\n",
              "      <td>United-States</td>\n",
              "      <td>&lt;=50K</td>\n",
              "    </tr>\n",
              "    <tr>\n",
              "      <th>3</th>\n",
              "      <td>53</td>\n",
              "      <td>Private</td>\n",
              "      <td>234721</td>\n",
              "      <td>11th</td>\n",
              "      <td>7</td>\n",
              "      <td>Married-civ-spouse</td>\n",
              "      <td>Handlers-cleaners</td>\n",
              "      <td>Husband</td>\n",
              "      <td>Black</td>\n",
              "      <td>Male</td>\n",
              "      <td>0</td>\n",
              "      <td>0</td>\n",
              "      <td>40</td>\n",
              "      <td>United-States</td>\n",
              "      <td>&lt;=50K</td>\n",
              "    </tr>\n",
              "    <tr>\n",
              "      <th>4</th>\n",
              "      <td>28</td>\n",
              "      <td>Private</td>\n",
              "      <td>338409</td>\n",
              "      <td>Bachelors</td>\n",
              "      <td>13</td>\n",
              "      <td>Married-civ-spouse</td>\n",
              "      <td>Prof-specialty</td>\n",
              "      <td>Wife</td>\n",
              "      <td>Black</td>\n",
              "      <td>Female</td>\n",
              "      <td>0</td>\n",
              "      <td>0</td>\n",
              "      <td>40</td>\n",
              "      <td>Cuba</td>\n",
              "      <td>&lt;=50K</td>\n",
              "    </tr>\n",
              "  </tbody>\n",
              "</table>\n",
              "</div>\n",
              "    <div class=\"colab-df-buttons\">\n",
              "\n",
              "  <div class=\"colab-df-container\">\n",
              "    <button class=\"colab-df-convert\" onclick=\"convertToInteractive('df-83d55da5-7a5a-49ce-a164-a0c7a151102d')\"\n",
              "            title=\"Convert this dataframe to an interactive table.\"\n",
              "            style=\"display:none;\">\n",
              "\n",
              "  <svg xmlns=\"http://www.w3.org/2000/svg\" height=\"24px\" viewBox=\"0 -960 960 960\">\n",
              "    <path d=\"M120-120v-720h720v720H120Zm60-500h600v-160H180v160Zm220 220h160v-160H400v160Zm0 220h160v-160H400v160ZM180-400h160v-160H180v160Zm440 0h160v-160H620v160ZM180-180h160v-160H180v160Zm440 0h160v-160H620v160Z\"/>\n",
              "  </svg>\n",
              "    </button>\n",
              "\n",
              "  <style>\n",
              "    .colab-df-container {\n",
              "      display:flex;\n",
              "      gap: 12px;\n",
              "    }\n",
              "\n",
              "    .colab-df-convert {\n",
              "      background-color: #E8F0FE;\n",
              "      border: none;\n",
              "      border-radius: 50%;\n",
              "      cursor: pointer;\n",
              "      display: none;\n",
              "      fill: #1967D2;\n",
              "      height: 32px;\n",
              "      padding: 0 0 0 0;\n",
              "      width: 32px;\n",
              "    }\n",
              "\n",
              "    .colab-df-convert:hover {\n",
              "      background-color: #E2EBFA;\n",
              "      box-shadow: 0px 1px 2px rgba(60, 64, 67, 0.3), 0px 1px 3px 1px rgba(60, 64, 67, 0.15);\n",
              "      fill: #174EA6;\n",
              "    }\n",
              "\n",
              "    .colab-df-buttons div {\n",
              "      margin-bottom: 4px;\n",
              "    }\n",
              "\n",
              "    [theme=dark] .colab-df-convert {\n",
              "      background-color: #3B4455;\n",
              "      fill: #D2E3FC;\n",
              "    }\n",
              "\n",
              "    [theme=dark] .colab-df-convert:hover {\n",
              "      background-color: #434B5C;\n",
              "      box-shadow: 0px 1px 3px 1px rgba(0, 0, 0, 0.15);\n",
              "      filter: drop-shadow(0px 1px 2px rgba(0, 0, 0, 0.3));\n",
              "      fill: #FFFFFF;\n",
              "    }\n",
              "  </style>\n",
              "\n",
              "    <script>\n",
              "      const buttonEl =\n",
              "        document.querySelector('#df-83d55da5-7a5a-49ce-a164-a0c7a151102d button.colab-df-convert');\n",
              "      buttonEl.style.display =\n",
              "        google.colab.kernel.accessAllowed ? 'block' : 'none';\n",
              "\n",
              "      async function convertToInteractive(key) {\n",
              "        const element = document.querySelector('#df-83d55da5-7a5a-49ce-a164-a0c7a151102d');\n",
              "        const dataTable =\n",
              "          await google.colab.kernel.invokeFunction('convertToInteractive',\n",
              "                                                    [key], {});\n",
              "        if (!dataTable) return;\n",
              "\n",
              "        const docLinkHtml = 'Like what you see? Visit the ' +\n",
              "          '<a target=\"_blank\" href=https://colab.research.google.com/notebooks/data_table.ipynb>data table notebook</a>'\n",
              "          + ' to learn more about interactive tables.';\n",
              "        element.innerHTML = '';\n",
              "        dataTable['output_type'] = 'display_data';\n",
              "        await google.colab.output.renderOutput(dataTable, element);\n",
              "        const docLink = document.createElement('div');\n",
              "        docLink.innerHTML = docLinkHtml;\n",
              "        element.appendChild(docLink);\n",
              "      }\n",
              "    </script>\n",
              "  </div>\n",
              "\n",
              "\n",
              "    <div id=\"df-09e3e2f3-542c-434b-a7ae-f655a61f2a4c\">\n",
              "      <button class=\"colab-df-quickchart\" onclick=\"quickchart('df-09e3e2f3-542c-434b-a7ae-f655a61f2a4c')\"\n",
              "                title=\"Suggest charts\"\n",
              "                style=\"display:none;\">\n",
              "\n",
              "<svg xmlns=\"http://www.w3.org/2000/svg\" height=\"24px\"viewBox=\"0 0 24 24\"\n",
              "     width=\"24px\">\n",
              "    <g>\n",
              "        <path d=\"M19 3H5c-1.1 0-2 .9-2 2v14c0 1.1.9 2 2 2h14c1.1 0 2-.9 2-2V5c0-1.1-.9-2-2-2zM9 17H7v-7h2v7zm4 0h-2V7h2v10zm4 0h-2v-4h2v4z\"/>\n",
              "    </g>\n",
              "</svg>\n",
              "      </button>\n",
              "\n",
              "<style>\n",
              "  .colab-df-quickchart {\n",
              "      --bg-color: #E8F0FE;\n",
              "      --fill-color: #1967D2;\n",
              "      --hover-bg-color: #E2EBFA;\n",
              "      --hover-fill-color: #174EA6;\n",
              "      --disabled-fill-color: #AAA;\n",
              "      --disabled-bg-color: #DDD;\n",
              "  }\n",
              "\n",
              "  [theme=dark] .colab-df-quickchart {\n",
              "      --bg-color: #3B4455;\n",
              "      --fill-color: #D2E3FC;\n",
              "      --hover-bg-color: #434B5C;\n",
              "      --hover-fill-color: #FFFFFF;\n",
              "      --disabled-bg-color: #3B4455;\n",
              "      --disabled-fill-color: #666;\n",
              "  }\n",
              "\n",
              "  .colab-df-quickchart {\n",
              "    background-color: var(--bg-color);\n",
              "    border: none;\n",
              "    border-radius: 50%;\n",
              "    cursor: pointer;\n",
              "    display: none;\n",
              "    fill: var(--fill-color);\n",
              "    height: 32px;\n",
              "    padding: 0;\n",
              "    width: 32px;\n",
              "  }\n",
              "\n",
              "  .colab-df-quickchart:hover {\n",
              "    background-color: var(--hover-bg-color);\n",
              "    box-shadow: 0 1px 2px rgba(60, 64, 67, 0.3), 0 1px 3px 1px rgba(60, 64, 67, 0.15);\n",
              "    fill: var(--button-hover-fill-color);\n",
              "  }\n",
              "\n",
              "  .colab-df-quickchart-complete:disabled,\n",
              "  .colab-df-quickchart-complete:disabled:hover {\n",
              "    background-color: var(--disabled-bg-color);\n",
              "    fill: var(--disabled-fill-color);\n",
              "    box-shadow: none;\n",
              "  }\n",
              "\n",
              "  .colab-df-spinner {\n",
              "    border: 2px solid var(--fill-color);\n",
              "    border-color: transparent;\n",
              "    border-bottom-color: var(--fill-color);\n",
              "    animation:\n",
              "      spin 1s steps(1) infinite;\n",
              "  }\n",
              "\n",
              "  @keyframes spin {\n",
              "    0% {\n",
              "      border-color: transparent;\n",
              "      border-bottom-color: var(--fill-color);\n",
              "      border-left-color: var(--fill-color);\n",
              "    }\n",
              "    20% {\n",
              "      border-color: transparent;\n",
              "      border-left-color: var(--fill-color);\n",
              "      border-top-color: var(--fill-color);\n",
              "    }\n",
              "    30% {\n",
              "      border-color: transparent;\n",
              "      border-left-color: var(--fill-color);\n",
              "      border-top-color: var(--fill-color);\n",
              "      border-right-color: var(--fill-color);\n",
              "    }\n",
              "    40% {\n",
              "      border-color: transparent;\n",
              "      border-right-color: var(--fill-color);\n",
              "      border-top-color: var(--fill-color);\n",
              "    }\n",
              "    60% {\n",
              "      border-color: transparent;\n",
              "      border-right-color: var(--fill-color);\n",
              "    }\n",
              "    80% {\n",
              "      border-color: transparent;\n",
              "      border-right-color: var(--fill-color);\n",
              "      border-bottom-color: var(--fill-color);\n",
              "    }\n",
              "    90% {\n",
              "      border-color: transparent;\n",
              "      border-bottom-color: var(--fill-color);\n",
              "    }\n",
              "  }\n",
              "</style>\n",
              "\n",
              "      <script>\n",
              "        async function quickchart(key) {\n",
              "          const quickchartButtonEl =\n",
              "            document.querySelector('#' + key + ' button');\n",
              "          quickchartButtonEl.disabled = true;  // To prevent multiple clicks.\n",
              "          quickchartButtonEl.classList.add('colab-df-spinner');\n",
              "          try {\n",
              "            const charts = await google.colab.kernel.invokeFunction(\n",
              "                'suggestCharts', [key], {});\n",
              "          } catch (error) {\n",
              "            console.error('Error during call to suggestCharts:', error);\n",
              "          }\n",
              "          quickchartButtonEl.classList.remove('colab-df-spinner');\n",
              "          quickchartButtonEl.classList.add('colab-df-quickchart-complete');\n",
              "        }\n",
              "        (() => {\n",
              "          let quickchartButtonEl =\n",
              "            document.querySelector('#df-09e3e2f3-542c-434b-a7ae-f655a61f2a4c button');\n",
              "          quickchartButtonEl.style.display =\n",
              "            google.colab.kernel.accessAllowed ? 'block' : 'none';\n",
              "        })();\n",
              "      </script>\n",
              "    </div>\n",
              "\n",
              "    </div>\n",
              "  </div>\n"
            ],
            "application/vnd.google.colaboratory.intrinsic+json": {
              "type": "dataframe",
              "summary": "{\n  \"name\": \"display(adult\",\n  \"rows\": 5,\n  \"fields\": [\n    {\n      \"column\": \"Age\",\n      \"properties\": {\n        \"dtype\": \"number\",\n        \"std\": 10,\n        \"min\": 28,\n        \"max\": 53,\n        \"num_unique_values\": 5,\n        \"samples\": [\n          50,\n          28,\n          38\n        ],\n        \"semantic_type\": \"\",\n        \"description\": \"\"\n      }\n    },\n    {\n      \"column\": \"Workclass\",\n      \"properties\": {\n        \"dtype\": \"string\",\n        \"num_unique_values\": 3,\n        \"samples\": [\n          \" State-gov\",\n          \" Self-emp-not-inc\",\n          \" Private\"\n        ],\n        \"semantic_type\": \"\",\n        \"description\": \"\"\n      }\n    },\n    {\n      \"column\": \"fnlgwt\",\n      \"properties\": {\n        \"dtype\": \"number\",\n        \"std\": 110360,\n        \"min\": 77516,\n        \"max\": 338409,\n        \"num_unique_values\": 5,\n        \"samples\": [\n          83311,\n          338409,\n          215646\n        ],\n        \"semantic_type\": \"\",\n        \"description\": \"\"\n      }\n    },\n    {\n      \"column\": \"Education\",\n      \"properties\": {\n        \"dtype\": \"string\",\n        \"num_unique_values\": 3,\n        \"samples\": [\n          \" Bachelors\",\n          \" HS-grad\",\n          \" 11th\"\n        ],\n        \"semantic_type\": \"\",\n        \"description\": \"\"\n      }\n    },\n    {\n      \"column\": \"Education Num\",\n      \"properties\": {\n        \"dtype\": \"number\",\n        \"std\": 2,\n        \"min\": 7,\n        \"max\": 13,\n        \"num_unique_values\": 3,\n        \"samples\": [\n          13,\n          9,\n          7\n        ],\n        \"semantic_type\": \"\",\n        \"description\": \"\"\n      }\n    },\n    {\n      \"column\": \"Marital Status\",\n      \"properties\": {\n        \"dtype\": \"string\",\n        \"num_unique_values\": 3,\n        \"samples\": [\n          \" Never-married\",\n          \" Married-civ-spouse\",\n          \" Divorced\"\n        ],\n        \"semantic_type\": \"\",\n        \"description\": \"\"\n      }\n    },\n    {\n      \"column\": \"Occupation\",\n      \"properties\": {\n        \"dtype\": \"string\",\n        \"num_unique_values\": 4,\n        \"samples\": [\n          \" Exec-managerial\",\n          \" Prof-specialty\",\n          \" Adm-clerical\"\n        ],\n        \"semantic_type\": \"\",\n        \"description\": \"\"\n      }\n    },\n    {\n      \"column\": \"Relationship\",\n      \"properties\": {\n        \"dtype\": \"string\",\n        \"num_unique_values\": 3,\n        \"samples\": [\n          \" Not-in-family\",\n          \" Husband\",\n          \" Wife\"\n        ],\n        \"semantic_type\": \"\",\n        \"description\": \"\"\n      }\n    },\n    {\n      \"column\": \"Race\",\n      \"properties\": {\n        \"dtype\": \"category\",\n        \"num_unique_values\": 2,\n        \"samples\": [\n          \" Black\",\n          \" White\"\n        ],\n        \"semantic_type\": \"\",\n        \"description\": \"\"\n      }\n    },\n    {\n      \"column\": \"Sex\",\n      \"properties\": {\n        \"dtype\": \"category\",\n        \"num_unique_values\": 2,\n        \"samples\": [\n          \" Female\",\n          \" Male\"\n        ],\n        \"semantic_type\": \"\",\n        \"description\": \"\"\n      }\n    },\n    {\n      \"column\": \"Capital Gain\",\n      \"properties\": {\n        \"dtype\": \"number\",\n        \"std\": 972,\n        \"min\": 0,\n        \"max\": 2174,\n        \"num_unique_values\": 2,\n        \"samples\": [\n          0,\n          2174\n        ],\n        \"semantic_type\": \"\",\n        \"description\": \"\"\n      }\n    },\n    {\n      \"column\": \"Capital Loss\",\n      \"properties\": {\n        \"dtype\": \"number\",\n        \"std\": 0,\n        \"min\": 0,\n        \"max\": 0,\n        \"num_unique_values\": 1,\n        \"samples\": [\n          0\n        ],\n        \"semantic_type\": \"\",\n        \"description\": \"\"\n      }\n    },\n    {\n      \"column\": \"Hours/Week\",\n      \"properties\": {\n        \"dtype\": \"number\",\n        \"std\": 12,\n        \"min\": 13,\n        \"max\": 40,\n        \"num_unique_values\": 2,\n        \"samples\": [\n          13\n        ],\n        \"semantic_type\": \"\",\n        \"description\": \"\"\n      }\n    },\n    {\n      \"column\": \"Country\",\n      \"properties\": {\n        \"dtype\": \"category\",\n        \"num_unique_values\": 2,\n        \"samples\": [\n          \" Cuba\"\n        ],\n        \"semantic_type\": \"\",\n        \"description\": \"\"\n      }\n    },\n    {\n      \"column\": \"Above/Below 50k\",\n      \"properties\": {\n        \"dtype\": \"category\",\n        \"num_unique_values\": 1,\n        \"samples\": [\n          \" <=50K\"\n        ],\n        \"semantic_type\": \"\",\n        \"description\": \"\"\n      }\n    }\n  ]\n}"
            }
          },
          "metadata": {}
        }
      ]
    },
    {
      "cell_type": "markdown",
      "source": [
        "**Exploring a target variable**  \n",
        "You have been asked to build a machine learning model to predict whether or not a person makes over $50,000 in a year. To understand the target variable, Above/Below 50k, you decide to explore the variable in more detail.\n",
        "\n",
        "The Python package pandas will be used throughout this course and will be loaded as pd throughout. The adult census income dataset, adult, has also been preloaded for you."
      ],
      "metadata": {
        "id": "jcFX3LafOnCL"
      }
    },
    {
      "cell_type": "code",
      "source": [
        "# Explore the Above/Below 50k variable\n",
        "print(adult[\"Above/Below 50k\"].describe())\n",
        "\n",
        "# Print a frequency table of \"Above/Below 50k\"\n",
        "print(adult[\"Above/Below 50k\"].value_counts())\n",
        "\n",
        "# Print relative frequency values\n",
        "print(adult[\"Above/Below 50k\"].value_counts(normalize=True))\n",
        "\n",
        "\n",
        "#  Above/Below 50k is a categorical variable with only two categories. Using both\n",
        "#  the .describe() and .value_counts() methods you can see that the dataset is a\n",
        "#  little imbalanced towards people making less than $50,000."
      ],
      "metadata": {
        "collapsed": true,
        "colab": {
          "base_uri": "https://localhost:8080/"
        },
        "id": "HhP2JWELOpIB",
        "outputId": "17433f6f-717a-4cee-f9f9-2a7855decd67"
      },
      "execution_count": 4,
      "outputs": [
        {
          "output_type": "stream",
          "name": "stdout",
          "text": [
            "count      32561\n",
            "unique         2\n",
            "top        <=50K\n",
            "freq       24720\n",
            "Name: Above/Below 50k, dtype: object\n",
            "Above/Below 50k\n",
            "<=50K    24720\n",
            ">50K      7841\n",
            "Name: count, dtype: int64\n",
            "Above/Below 50k\n",
            "<=50K    0.75919\n",
            ">50K     0.24081\n",
            "Name: proportion, dtype: float64\n"
          ]
        }
      ]
    },
    {
      "cell_type": "markdown",
      "source": [
        "**Setting dtypes and saving memory**  \n",
        "A colleague of yours is exploring a list of occupations and how they relate to salary. She has given you a list of these occupations, list_of_occupations, and has a few simple questions such as \"How many different titles are there?\" and \"Which position is the most common?\"."
      ],
      "metadata": {
        "id": "cjVDrn-yT_8u"
      }
    },
    {
      "cell_type": "code",
      "source": [
        "list_of_occupations = ['Data Scientist', 'Data Analyst', 'Data Scientist', 'Statistician', 'Data Scientist', 'Data Scientist', 'Statistician', 'Data Scientist', 'Data Analyst', 'Data Analyst', 'Data Scientist', 'Data Scientist', 'Data Scientist', 'Data Scientist', 'Data Scientist', 'Data Analyst', 'Data Scientist', 'Data Scientist', 'Data Analyst', 'Data Scientist', 'Data Scientist', 'Data Scientist', 'Data Scientist', 'Data Scientist', 'Data Scientist', 'Data Analyst', 'Data Scientist', 'Data Scientist', 'Data Scientist', 'Data Scientist', 'Data Analyst', 'Data Scientist', 'Data Scientist', 'Data Scientist', 'Data Scientist', 'Data Scientist', 'Statistician', 'Data Analyst', 'Data Scientist', 'Data Scientist', 'Data Scientist', 'Data Analyst', 'Data Scientist', 'Data Scientist', 'Data Analyst', 'Data Scientist', 'Data Scientist', 'Data Analyst', 'Data Analyst', 'Data Scientist', 'Data Analyst', 'Data Scientist', 'Statistician', 'Data Scientist', 'Data Scientist', 'Statistician', 'Data Scientist', 'Data Scientist', 'Statistician', 'Data Scientist', 'Data Scientist', 'Data Scientist', 'Statistician', 'Statistician', 'Data Analyst', 'Data Analyst', 'Data Scientist', 'Data Scientist', 'Data Scientist', 'Data Scientist', 'Data Scientist', 'Data Scientist', 'Data Scientist', 'Statistician', 'Statistician', 'Data Scientist', 'Data Scientist', 'Data Scientist', 'Data Scientist', 'Data Scientist', 'Data Scientist', 'Data Scientist', 'Data Analyst', 'Data Scientist', 'Data Scientist', 'Data Scientist', 'Data Analyst', 'Statistician', 'Data Analyst', 'Data Scientist', 'Data Analyst', 'Data Scientist', 'Data Scientist', 'Data Scientist', 'Data Scientist', 'Statistician', 'Data Scientist', 'Data Scientist', 'Data Analyst', 'Data Analyst', 'Data Analyst', 'Data Scientist']\n",
        "\n",
        "# Create a Series, default dtype\n",
        "series1 = pd.Series(list_of_occupations)\n",
        "\n",
        "# Print out the data type and number of bytes for series1\n",
        "print(\"series1 data type:\", series1.dtype)\n",
        "print(\"series1 number of bytes:\", series1.nbytes)\n",
        "\n",
        "# Create a Series, \"category\" dtype\n",
        "series2 = pd.Series(list_of_occupations, dtype=\"category\")\n",
        "\n",
        "# Print out the data type and number of bytes for series2\n",
        "print(\"series2 data type:\", series2.dtype)\n",
        "print(\"series2 number of bytes:\", series2.nbytes)\n",
        "\n",
        "# Did you notice the memory savings when you used the dtype \"category\"? Take a\n",
        "# look. It was a 7.5x decrease in memory"
      ],
      "metadata": {
        "colab": {
          "base_uri": "https://localhost:8080/"
        },
        "id": "hqNSZleeU5b3",
        "outputId": "1c6c4df3-6b8f-43af-8537-f7c33de85c8a"
      },
      "execution_count": 6,
      "outputs": [
        {
          "output_type": "stream",
          "name": "stdout",
          "text": [
            "series1 data type: object\n",
            "series1 number of bytes: 816\n",
            "series2 data type: category\n",
            "series2 number of bytes: 126\n"
          ]
        }
      ]
    },
    {
      "cell_type": "markdown",
      "source": [
        "**Creating a categorical pandas Series**  \n",
        "Another colleague at work has collected information on the number of \"Gold\", \"Silver\", and \"Bronze\" medals won by the USA at the Summer & Winter Olympics since 1896. She has provided this as a list, medals_won. Before taking a look at the total number of each medal won, you want to create a categorical pandas Series. However, you know that these medals have a specific order to them and that Gold is better than Silver, but Silver is better than Bronze. Use the object, medals_won, to help."
      ],
      "metadata": {
        "id": "ryD75vOIVutZ"
      }
    },
    {
      "cell_type": "code",
      "source": [
        "medals_won  = ['Silver', 'Silver', 'Bronze', 'Silver', 'Gold', 'Silver', 'Silver', 'Gold', 'Gold', 'Bronze', 'Bronze', 'Gold', 'Silver', 'Silver', 'Silver', 'Gold', 'Gold', 'Bronze', 'Silver', 'Gold', 'Bronze', 'Gold', 'Silver', 'Silver', 'Silver', 'Bronze', 'Gold', 'Gold', 'Silver', 'Gold', 'Silver', 'Silver', 'Silver', 'Gold', 'Gold', 'Silver', 'Silver', 'Silver', 'Silver', 'Silver', 'Gold', 'Gold', 'Gold', 'Silver', 'Silver', 'Gold', 'Gold', 'Gold', 'Silver', 'Bronze', 'Silver', 'Silver', 'Gold', 'Silver', 'Bronze', 'Silver', 'Bronze', 'Bronze', 'Gold', 'Silver', 'Gold', 'Bronze', 'Gold', 'Bronze', 'Bronze', 'Gold', 'Gold', 'Gold', 'Gold', 'Silver', 'Silver', 'Bronze', 'Gold', 'Silver', 'Gold', 'Bronze', 'Silver', 'Silver', 'Gold', 'Silver', 'Silver', 'Silver', 'Bronze', 'Gold', 'Gold', 'Gold', 'Silver', 'Silver', 'Bronze', 'Bronze', 'Gold', 'Bronze', 'Silver', 'Silver', 'Silver', 'Silver', 'Gold', 'Bronze', 'Bronze', 'Gold', 'Gold', 'Gold', 'Silver', 'Silver', 'Bronze', 'Bronze', 'Gold', 'Silver', 'Gold', 'Bronze', 'Bronze', 'Silver', 'Gold', 'Silver', 'Silver', 'Gold', 'Silver', 'Gold', 'Bronze', 'Silver', 'Gold', 'Silver', 'Gold', 'Silver', 'Bronze', 'Silver', 'Bronze', 'Gold', 'Gold', 'Gold', 'Silver', 'Bronze', 'Silver', 'Bronze', 'Gold', 'Silver', 'Gold', 'Bronze', 'Gold', 'Silver', 'Gold', 'Silver', 'Bronze', 'Silver', 'Gold', 'Gold', 'Silver', 'Gold', 'Gold', 'Silver', 'Bronze', 'Gold', 'Silver', 'Silver', 'Gold', 'Gold', 'Bronze', 'Silver', 'Silver', 'Bronze', 'Bronze', 'Gold', 'Gold', 'Silver', 'Bronze', 'Gold', 'Gold', 'Bronze', 'Silver', 'Gold', 'Silver', 'Gold', 'Gold', 'Silver', 'Silver', 'Bronze', 'Gold', 'Gold', 'Gold', 'Silver', 'Gold', 'Silver', 'Silver', 'Gold', 'Gold', 'Gold', 'Bronze', 'Bronze', 'Silver', 'Bronze', 'Gold', 'Gold', 'Bronze', 'Silver', 'Silver', 'Gold', 'Silver', 'Bronze', 'Bronze', 'Bronze', 'Bronze', 'Gold', 'Gold', 'Gold', 'Silver', 'Silver', 'Bronze', 'Gold', 'Bronze', 'Gold', 'Gold', 'Silver', 'Gold', 'Bronze', 'Bronze', 'Silver', 'Gold', 'Gold', 'Gold', 'Silver', 'Gold', 'Bronze', 'Gold', 'Gold', 'Silver', 'Bronze', 'Gold', 'Bronze', 'Gold', 'Gold', 'Bronze', 'Bronze', 'Silver', 'Bronze', 'Gold', 'Silver', 'Gold', 'Gold', 'Gold', 'Bronze', 'Gold', 'Silver', 'Gold', 'Silver', 'Silver', 'Bronze', 'Gold', 'Bronze', 'Silver', 'Silver', 'Silver', 'Bronze', 'Gold', 'Bronze', 'Gold', 'Gold', 'Silver', 'Bronze', 'Bronze', 'Bronze', 'Bronze', 'Bronze', 'Silver', 'Bronze', 'Gold', 'Silver', 'Gold', 'Gold']\n",
        "\n",
        "# Create a categorical Series and specify the categories (let pandas know the order matters!)\n",
        "medals = pd.Categorical(medals_won, categories=['Bronze', 'Silver', 'Gold'], ordered=True)\n",
        "print(medals)\n",
        "\n",
        "# pd.Categorical() is a great way to create a Series and specify both the categories\n",
        "#  and whether or not the order of these categories is important.\n",
        "\n"
      ],
      "metadata": {
        "colab": {
          "base_uri": "https://localhost:8080/"
        },
        "id": "O241ygLbVwsB",
        "outputId": "27f3e2fe-a865-489c-e2f1-508c4d41262d"
      },
      "execution_count": 7,
      "outputs": [
        {
          "output_type": "stream",
          "name": "stdout",
          "text": [
            "['Silver', 'Silver', 'Bronze', 'Silver', 'Gold', ..., 'Bronze', 'Gold', 'Silver', 'Gold', 'Gold']\n",
            "Length: 268\n",
            "Categories (3, object): ['Bronze' < 'Silver' < 'Gold']\n"
          ]
        }
      ]
    },
    {
      "cell_type": "markdown",
      "source": [
        "  **Setting dtype when reading data**  \n",
        "You are preparing to create a machine learning model to predict a person's income category using the adult census income dataset. You don't have access to any cloud resources and you want to make sure that your laptop will be able to load the full dataset and process its contents. You have read in the first five rows of the dataset adult to help you understand what kind of columns are available."
      ],
      "metadata": {
        "id": "CDq2l8CjXeTO"
      }
    },
    {
      "cell_type": "code",
      "source": [
        "# Check the dtypes\n",
        "print(adult.dtypes)\n",
        "\n",
        "# Create a dictionary with column names as keys and \"category\" as values\n",
        "adult_dtypes = {\n",
        "   \"Workclass\": \"category\",\n",
        "   \"Education\": \"category\",\n",
        "   \"Relationship\": \"category\",\n",
        "   \"Above/Below 50k\": \"category\"\n",
        "}\n",
        "\n",
        "# Read in the CSV using the dtypes parameter\n",
        "adult2 = pd.read_csv(\n",
        "  url,\n",
        "  dtype=adult_dtypes\n",
        ")\n",
        "print(adult2.dtypes)\n",
        "\n",
        "# Using the categorical dtype is a great way to save memory and boost performance.\n",
        "#  Specifying the dtypes will lower the amount of memory required to load your dataset.\n",
        "#  This is quite helpful when dealing with large datasets!"
      ],
      "metadata": {
        "colab": {
          "base_uri": "https://localhost:8080/"
        },
        "id": "ygL8wX1TXg4e",
        "outputId": "bbe2cc9c-5755-471f-fafd-b281849d97c1"
      },
      "execution_count": 9,
      "outputs": [
        {
          "output_type": "stream",
          "name": "stdout",
          "text": [
            "Age                 int64\n",
            "Workclass          object\n",
            "fnlgwt              int64\n",
            "Education          object\n",
            "Education Num       int64\n",
            "Marital Status     object\n",
            "Occupation         object\n",
            "Relationship       object\n",
            "Race               object\n",
            "Sex                object\n",
            "Capital Gain        int64\n",
            "Capital Loss        int64\n",
            "Hours/Week          int64\n",
            "Country            object\n",
            "Above/Below 50k    object\n",
            "dtype: object\n",
            "Age                   int64\n",
            "Workclass          category\n",
            "fnlgwt                int64\n",
            "Education          category\n",
            "Education Num         int64\n",
            "Marital Status       object\n",
            "Occupation           object\n",
            "Relationship       category\n",
            "Race                 object\n",
            "Sex                  object\n",
            "Capital Gain          int64\n",
            "Capital Loss          int64\n",
            "Hours/Week            int64\n",
            "Country              object\n",
            "Above/Below 50k    category\n",
            "dtype: object\n"
          ]
        }
      ]
    },
    {
      "cell_type": "markdown",
      "source": [
        "**Setting up a .groupby() statement**  \n",
        "The gender wage gap is a hot-topic item in the United States and across the world. Using the adult census income dataset, loaded as adult, you want to check if some of the recently published data lines up with this income survey."
      ],
      "metadata": {
        "id": "c6ccjywYZTWu"
      }
    },
    {
      "cell_type": "code",
      "source": [
        "# Group the adult dataset by \"Sex\" and \"Above/Below 50k\"\n",
        "gb = adult.groupby(by=[\"Sex\", \"Above/Below 50k\"])\n",
        "\n",
        "# Print out how many rows are in each created group\n",
        "print(gb.size())\n",
        "\n",
        "# Print out the mean of each group for all columns\n",
        "print(gb.mean(numeric_only=True))\n",
        "\n",
        "# It does look like the proportion of women making more than 50k is a lot lower\n",
        "# than men. However, women making more than 50k are on average younger than their male counterparts."
      ],
      "metadata": {
        "colab": {
          "base_uri": "https://localhost:8080/"
        },
        "id": "98iFfC8HZVJg",
        "outputId": "bcdb867a-da1e-41b9-80dc-2beb5a33eeed"
      },
      "execution_count": 12,
      "outputs": [
        {
          "output_type": "stream",
          "name": "stdout",
          "text": [
            "Sex     Above/Below 50k\n",
            "Female  <=50K               9592\n",
            "        >50K                1179\n",
            "Male    <=50K              15128\n",
            "        >50K                6662\n",
            "dtype: int64\n",
            "                              Age         fnlgwt  Education Num  Capital Gain  \\\n",
            "Sex    Above/Below 50k                                                          \n",
            "Female <=50K            36.210801  185999.381359       9.820475    121.986134   \n",
            "       >50K             42.125530  183687.406277      11.787108   4200.389313   \n",
            "Male   <=50K            37.147012  193093.609268       9.452142    165.723823   \n",
            "       >50K             44.625788  188769.101321      11.580606   3971.765836   \n",
            "\n",
            "                        Capital Loss  Hours/Week  \n",
            "Sex    Above/Below 50k                            \n",
            "Female <=50K               47.364470   35.916701  \n",
            "       >50K               173.648855   40.426633  \n",
            "Male   <=50K               56.806782   40.693879  \n",
            "       >50K               198.780396   46.366106  \n"
          ]
        }
      ]
    },
    {
      "cell_type": "markdown",
      "source": [
        "**Using pandas functions effectively**  \n",
        "You are creating a Python application that will calculate summary statistics based on user-selected variables. The complete dataset is quite large. For now, you are setting up your code using part of the dataset, preloaded as adult. As you create a reusable process, make sure you are thinking through the most efficient way to setup the GroupBy object."
      ],
      "metadata": {
        "id": "Cfw1LCK3aQuQ"
      }
    },
    {
      "cell_type": "code",
      "source": [
        "# Create a list of user-selected variables\n",
        "user_list = [\"Education\", \"Above/Below 50k\"]\n",
        "\n",
        "# Create a GroupBy object using this list\n",
        "gb = adult.groupby(by=user_list)\n",
        "\n",
        "# Find the mean for the variable \"Hours/Week\" for each group - Be efficient!\n",
        "print(gb[\"Hours/Week\"].mean())\n",
        "\n",
        "# You just finished Chapter 1. People earning more than $50,000 tend to work a lot\n",
        "# more hours, regardless of their education, than people earning less than $50,000.\n",
        "# Remember, it's important to select your variables before calling a function. Large\n",
        "# datatsets might have problems calculating the mean of every numerical column."
      ],
      "metadata": {
        "collapsed": true,
        "colab": {
          "base_uri": "https://localhost:8080/"
        },
        "id": "sKAlEy5paSoK",
        "outputId": "7150283b-c294-4acd-9262-3a369865b952"
      },
      "execution_count": 13,
      "outputs": [
        {
          "output_type": "stream",
          "name": "stdout",
          "text": [
            "Education     Above/Below 50k\n",
            "10th          <=50K              36.574053\n",
            "              >50K               43.774194\n",
            "11th          <=50K              33.322870\n",
            "              >50K               45.133333\n",
            "12th          <=50K              35.035000\n",
            "              >50K               44.818182\n",
            "1st-4th       <=50K              37.864198\n",
            "              >50K               48.833333\n",
            "5th-6th       <=50K              38.539432\n",
            "              >50K               46.000000\n",
            "7th-8th       <=50K              38.830033\n",
            "              >50K               47.500000\n",
            "9th           <=50K              37.667351\n",
            "              >50K               44.851852\n",
            "Assoc-acdm    <=50K              39.264339\n",
            "              >50K               44.256604\n",
            "Assoc-voc     <=50K              40.817826\n",
            "              >50K               43.853186\n",
            "Bachelors     <=50K              40.586152\n",
            "              >50K               45.475462\n",
            "Doctorate     <=50K              45.429907\n",
            "              >50K               47.513072\n",
            "HS-grad       <=50K              39.727510\n",
            "              >50K               45.042985\n",
            "Masters       <=50K              41.223822\n",
            "              >50K               45.917623\n",
            "Preschool     <=50K              36.647059\n",
            "Prof-school   <=50K              42.816993\n",
            "              >50K               49.092199\n",
            "Some-college  <=50K              37.450203\n",
            "              >50K               44.820476\n",
            "Name: Hours/Week, dtype: float64\n"
          ]
        }
      ]
    }
  ]
}