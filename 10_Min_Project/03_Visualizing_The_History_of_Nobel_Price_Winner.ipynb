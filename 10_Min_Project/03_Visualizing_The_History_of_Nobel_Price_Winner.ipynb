{
  "nbformat": 4,
  "nbformat_minor": 0,
  "metadata": {
    "colab": {
      "provenance": [],
      "authorship_tag": "ABX9TyN7J6wC6vbdHMxAWGZovda7",
      "include_colab_link": true
    },
    "kernelspec": {
      "name": "python3",
      "display_name": "Python 3"
    },
    "language_info": {
      "name": "python"
    }
  },
  "cells": [
    {
      "cell_type": "markdown",
      "metadata": {
        "id": "view-in-github",
        "colab_type": "text"
      },
      "source": [
        "<a href=\"https://colab.research.google.com/github/Rohanrathod7/my-ds-labs/blob/main/10_Min_Project/03_Visualizing_The_History_of_Nobel_Price_Winner.ipynb\" target=\"_parent\"><img src=\"https://colab.research.google.com/assets/colab-badge.svg\" alt=\"Open In Colab\"/></a>"
      ]
    },
    {
      "cell_type": "markdown",
      "source": [
        "# Analyze Nobel Prize winner data and identify patterns by answering the following questions:"
      ],
      "metadata": {
        "id": "v0zjnDrw5HvE"
      }
    },
    {
      "cell_type": "markdown",
      "source": [
        "### What is the most commonly awarded gender and birth country?\n",
        "\n",
        "- Store your answers as string variables top_gender and top_country."
      ],
      "metadata": {
        "id": "23lt5C8E5J8R"
      }
    },
    {
      "cell_type": "markdown",
      "source": [
        "**Q1 Load the dataset and find the most common gender and birth country\n",
        "Load the dataset into a DataFrame using pandas and then extract the top values from sex and birth_country.**\n",
        "\n",
        "\n",
        "- Load in data\n",
        "- Use the pandas read_csv() function to load the data as a DataFrame.\n",
        "\n",
        "- Most common value in a column\n",
        "- Use value_counts() on the desired column and tag .index[0] to the end to grab only the top value."
      ],
      "metadata": {
        "id": "NmRTbkeE5P6L"
      }
    },
    {
      "cell_type": "code",
      "source": [
        "import matplotlib.pyplot as plt\n",
        "import seaborn as sns\n",
        "import numpy as np\n",
        "import pandas as pd"
      ],
      "metadata": {
        "id": "O0HiAhgENZ5_"
      },
      "execution_count": 2,
      "outputs": []
    },
    {
      "cell_type": "code",
      "source": [
        "url = \"https://raw.githubusercontent.com/Rohanrathod7/my-ds-labs/main/10_Min_Project/database/nobel.csv\"\n",
        "df = pd.read_csv(url)\n",
        "display(df.head())"
      ],
      "metadata": {
        "collapsed": true,
        "colab": {
          "base_uri": "https://localhost:8080/",
          "height": 504
        },
        "id": "rmLYTRAU4oHo",
        "outputId": "b5849eb5-d3f1-4401-ad0e-093279bb25b1"
      },
      "execution_count": 7,
      "outputs": [
        {
          "output_type": "display_data",
          "data": {
            "text/plain": [
              "   year    category                                           prize  \\\n",
              "0  1901   Chemistry               The Nobel Prize in Chemistry 1901   \n",
              "1  1901  Literature              The Nobel Prize in Literature 1901   \n",
              "2  1901    Medicine  The Nobel Prize in Physiology or Medicine 1901   \n",
              "3  1901       Peace                      The Nobel Peace Prize 1901   \n",
              "4  1901       Peace                      The Nobel Peace Prize 1901   \n",
              "\n",
              "                                          motivation prize_share  laureate_id  \\\n",
              "0  \"in recognition of the extraordinary services ...         1/1          160   \n",
              "1  \"in special recognition of his poetic composit...         1/1          569   \n",
              "2  \"for his work on serum therapy, especially its...         1/1          293   \n",
              "3                                                NaN         1/2          462   \n",
              "4                                                NaN         1/2          463   \n",
              "\n",
              "  laureate_type                     full_name  birth_date         birth_city  \\\n",
              "0    Individual  Jacobus Henricus van 't Hoff  1852-08-30          Rotterdam   \n",
              "1    Individual               Sully Prudhomme  1839-03-16              Paris   \n",
              "2    Individual        Emil Adolf von Behring  1854-03-15  Hansdorf (Lawice)   \n",
              "3    Individual             Jean Henry Dunant  1828-05-08             Geneva   \n",
              "4    Individual                Frédéric Passy  1822-05-20              Paris   \n",
              "\n",
              "      birth_country   sex   organization_name organization_city  \\\n",
              "0       Netherlands  Male   Berlin University            Berlin   \n",
              "1            France  Male                 NaN               NaN   \n",
              "2  Prussia (Poland)  Male  Marburg University           Marburg   \n",
              "3       Switzerland  Male                 NaN               NaN   \n",
              "4            France  Male                 NaN               NaN   \n",
              "\n",
              "  organization_country  death_date death_city death_country  \n",
              "0              Germany  1911-03-01     Berlin       Germany  \n",
              "1                  NaN  1907-09-07   Châtenay        France  \n",
              "2              Germany  1917-03-31    Marburg       Germany  \n",
              "3                  NaN  1910-10-30     Heiden   Switzerland  \n",
              "4                  NaN  1912-06-12      Paris        France  "
            ],
            "text/html": [
              "\n",
              "  <div id=\"df-144ac260-c0dd-4bce-9883-95c44d509ed7\" class=\"colab-df-container\">\n",
              "    <div>\n",
              "<style scoped>\n",
              "    .dataframe tbody tr th:only-of-type {\n",
              "        vertical-align: middle;\n",
              "    }\n",
              "\n",
              "    .dataframe tbody tr th {\n",
              "        vertical-align: top;\n",
              "    }\n",
              "\n",
              "    .dataframe thead th {\n",
              "        text-align: right;\n",
              "    }\n",
              "</style>\n",
              "<table border=\"1\" class=\"dataframe\">\n",
              "  <thead>\n",
              "    <tr style=\"text-align: right;\">\n",
              "      <th></th>\n",
              "      <th>year</th>\n",
              "      <th>category</th>\n",
              "      <th>prize</th>\n",
              "      <th>motivation</th>\n",
              "      <th>prize_share</th>\n",
              "      <th>laureate_id</th>\n",
              "      <th>laureate_type</th>\n",
              "      <th>full_name</th>\n",
              "      <th>birth_date</th>\n",
              "      <th>birth_city</th>\n",
              "      <th>birth_country</th>\n",
              "      <th>sex</th>\n",
              "      <th>organization_name</th>\n",
              "      <th>organization_city</th>\n",
              "      <th>organization_country</th>\n",
              "      <th>death_date</th>\n",
              "      <th>death_city</th>\n",
              "      <th>death_country</th>\n",
              "    </tr>\n",
              "  </thead>\n",
              "  <tbody>\n",
              "    <tr>\n",
              "      <th>0</th>\n",
              "      <td>1901</td>\n",
              "      <td>Chemistry</td>\n",
              "      <td>The Nobel Prize in Chemistry 1901</td>\n",
              "      <td>\"in recognition of the extraordinary services ...</td>\n",
              "      <td>1/1</td>\n",
              "      <td>160</td>\n",
              "      <td>Individual</td>\n",
              "      <td>Jacobus Henricus van 't Hoff</td>\n",
              "      <td>1852-08-30</td>\n",
              "      <td>Rotterdam</td>\n",
              "      <td>Netherlands</td>\n",
              "      <td>Male</td>\n",
              "      <td>Berlin University</td>\n",
              "      <td>Berlin</td>\n",
              "      <td>Germany</td>\n",
              "      <td>1911-03-01</td>\n",
              "      <td>Berlin</td>\n",
              "      <td>Germany</td>\n",
              "    </tr>\n",
              "    <tr>\n",
              "      <th>1</th>\n",
              "      <td>1901</td>\n",
              "      <td>Literature</td>\n",
              "      <td>The Nobel Prize in Literature 1901</td>\n",
              "      <td>\"in special recognition of his poetic composit...</td>\n",
              "      <td>1/1</td>\n",
              "      <td>569</td>\n",
              "      <td>Individual</td>\n",
              "      <td>Sully Prudhomme</td>\n",
              "      <td>1839-03-16</td>\n",
              "      <td>Paris</td>\n",
              "      <td>France</td>\n",
              "      <td>Male</td>\n",
              "      <td>NaN</td>\n",
              "      <td>NaN</td>\n",
              "      <td>NaN</td>\n",
              "      <td>1907-09-07</td>\n",
              "      <td>Châtenay</td>\n",
              "      <td>France</td>\n",
              "    </tr>\n",
              "    <tr>\n",
              "      <th>2</th>\n",
              "      <td>1901</td>\n",
              "      <td>Medicine</td>\n",
              "      <td>The Nobel Prize in Physiology or Medicine 1901</td>\n",
              "      <td>\"for his work on serum therapy, especially its...</td>\n",
              "      <td>1/1</td>\n",
              "      <td>293</td>\n",
              "      <td>Individual</td>\n",
              "      <td>Emil Adolf von Behring</td>\n",
              "      <td>1854-03-15</td>\n",
              "      <td>Hansdorf (Lawice)</td>\n",
              "      <td>Prussia (Poland)</td>\n",
              "      <td>Male</td>\n",
              "      <td>Marburg University</td>\n",
              "      <td>Marburg</td>\n",
              "      <td>Germany</td>\n",
              "      <td>1917-03-31</td>\n",
              "      <td>Marburg</td>\n",
              "      <td>Germany</td>\n",
              "    </tr>\n",
              "    <tr>\n",
              "      <th>3</th>\n",
              "      <td>1901</td>\n",
              "      <td>Peace</td>\n",
              "      <td>The Nobel Peace Prize 1901</td>\n",
              "      <td>NaN</td>\n",
              "      <td>1/2</td>\n",
              "      <td>462</td>\n",
              "      <td>Individual</td>\n",
              "      <td>Jean Henry Dunant</td>\n",
              "      <td>1828-05-08</td>\n",
              "      <td>Geneva</td>\n",
              "      <td>Switzerland</td>\n",
              "      <td>Male</td>\n",
              "      <td>NaN</td>\n",
              "      <td>NaN</td>\n",
              "      <td>NaN</td>\n",
              "      <td>1910-10-30</td>\n",
              "      <td>Heiden</td>\n",
              "      <td>Switzerland</td>\n",
              "    </tr>\n",
              "    <tr>\n",
              "      <th>4</th>\n",
              "      <td>1901</td>\n",
              "      <td>Peace</td>\n",
              "      <td>The Nobel Peace Prize 1901</td>\n",
              "      <td>NaN</td>\n",
              "      <td>1/2</td>\n",
              "      <td>463</td>\n",
              "      <td>Individual</td>\n",
              "      <td>Frédéric Passy</td>\n",
              "      <td>1822-05-20</td>\n",
              "      <td>Paris</td>\n",
              "      <td>France</td>\n",
              "      <td>Male</td>\n",
              "      <td>NaN</td>\n",
              "      <td>NaN</td>\n",
              "      <td>NaN</td>\n",
              "      <td>1912-06-12</td>\n",
              "      <td>Paris</td>\n",
              "      <td>France</td>\n",
              "    </tr>\n",
              "  </tbody>\n",
              "</table>\n",
              "</div>\n",
              "    <div class=\"colab-df-buttons\">\n",
              "\n",
              "  <div class=\"colab-df-container\">\n",
              "    <button class=\"colab-df-convert\" onclick=\"convertToInteractive('df-144ac260-c0dd-4bce-9883-95c44d509ed7')\"\n",
              "            title=\"Convert this dataframe to an interactive table.\"\n",
              "            style=\"display:none;\">\n",
              "\n",
              "  <svg xmlns=\"http://www.w3.org/2000/svg\" height=\"24px\" viewBox=\"0 -960 960 960\">\n",
              "    <path d=\"M120-120v-720h720v720H120Zm60-500h600v-160H180v160Zm220 220h160v-160H400v160Zm0 220h160v-160H400v160ZM180-400h160v-160H180v160Zm440 0h160v-160H620v160ZM180-180h160v-160H180v160Zm440 0h160v-160H620v160Z\"/>\n",
              "  </svg>\n",
              "    </button>\n",
              "\n",
              "  <style>\n",
              "    .colab-df-container {\n",
              "      display:flex;\n",
              "      gap: 12px;\n",
              "    }\n",
              "\n",
              "    .colab-df-convert {\n",
              "      background-color: #E8F0FE;\n",
              "      border: none;\n",
              "      border-radius: 50%;\n",
              "      cursor: pointer;\n",
              "      display: none;\n",
              "      fill: #1967D2;\n",
              "      height: 32px;\n",
              "      padding: 0 0 0 0;\n",
              "      width: 32px;\n",
              "    }\n",
              "\n",
              "    .colab-df-convert:hover {\n",
              "      background-color: #E2EBFA;\n",
              "      box-shadow: 0px 1px 2px rgba(60, 64, 67, 0.3), 0px 1px 3px 1px rgba(60, 64, 67, 0.15);\n",
              "      fill: #174EA6;\n",
              "    }\n",
              "\n",
              "    .colab-df-buttons div {\n",
              "      margin-bottom: 4px;\n",
              "    }\n",
              "\n",
              "    [theme=dark] .colab-df-convert {\n",
              "      background-color: #3B4455;\n",
              "      fill: #D2E3FC;\n",
              "    }\n",
              "\n",
              "    [theme=dark] .colab-df-convert:hover {\n",
              "      background-color: #434B5C;\n",
              "      box-shadow: 0px 1px 3px 1px rgba(0, 0, 0, 0.15);\n",
              "      filter: drop-shadow(0px 1px 2px rgba(0, 0, 0, 0.3));\n",
              "      fill: #FFFFFF;\n",
              "    }\n",
              "  </style>\n",
              "\n",
              "    <script>\n",
              "      const buttonEl =\n",
              "        document.querySelector('#df-144ac260-c0dd-4bce-9883-95c44d509ed7 button.colab-df-convert');\n",
              "      buttonEl.style.display =\n",
              "        google.colab.kernel.accessAllowed ? 'block' : 'none';\n",
              "\n",
              "      async function convertToInteractive(key) {\n",
              "        const element = document.querySelector('#df-144ac260-c0dd-4bce-9883-95c44d509ed7');\n",
              "        const dataTable =\n",
              "          await google.colab.kernel.invokeFunction('convertToInteractive',\n",
              "                                                    [key], {});\n",
              "        if (!dataTable) return;\n",
              "\n",
              "        const docLinkHtml = 'Like what you see? Visit the ' +\n",
              "          '<a target=\"_blank\" href=https://colab.research.google.com/notebooks/data_table.ipynb>data table notebook</a>'\n",
              "          + ' to learn more about interactive tables.';\n",
              "        element.innerHTML = '';\n",
              "        dataTable['output_type'] = 'display_data';\n",
              "        await google.colab.output.renderOutput(dataTable, element);\n",
              "        const docLink = document.createElement('div');\n",
              "        docLink.innerHTML = docLinkHtml;\n",
              "        element.appendChild(docLink);\n",
              "      }\n",
              "    </script>\n",
              "  </div>\n",
              "\n",
              "\n",
              "    <div id=\"df-d3bc7ae3-78d7-4969-89c5-b3c63a9420d9\">\n",
              "      <button class=\"colab-df-quickchart\" onclick=\"quickchart('df-d3bc7ae3-78d7-4969-89c5-b3c63a9420d9')\"\n",
              "                title=\"Suggest charts\"\n",
              "                style=\"display:none;\">\n",
              "\n",
              "<svg xmlns=\"http://www.w3.org/2000/svg\" height=\"24px\"viewBox=\"0 0 24 24\"\n",
              "     width=\"24px\">\n",
              "    <g>\n",
              "        <path d=\"M19 3H5c-1.1 0-2 .9-2 2v14c0 1.1.9 2 2 2h14c1.1 0 2-.9 2-2V5c0-1.1-.9-2-2-2zM9 17H7v-7h2v7zm4 0h-2V7h2v10zm4 0h-2v-4h2v4z\"/>\n",
              "    </g>\n",
              "</svg>\n",
              "      </button>\n",
              "\n",
              "<style>\n",
              "  .colab-df-quickchart {\n",
              "      --bg-color: #E8F0FE;\n",
              "      --fill-color: #1967D2;\n",
              "      --hover-bg-color: #E2EBFA;\n",
              "      --hover-fill-color: #174EA6;\n",
              "      --disabled-fill-color: #AAA;\n",
              "      --disabled-bg-color: #DDD;\n",
              "  }\n",
              "\n",
              "  [theme=dark] .colab-df-quickchart {\n",
              "      --bg-color: #3B4455;\n",
              "      --fill-color: #D2E3FC;\n",
              "      --hover-bg-color: #434B5C;\n",
              "      --hover-fill-color: #FFFFFF;\n",
              "      --disabled-bg-color: #3B4455;\n",
              "      --disabled-fill-color: #666;\n",
              "  }\n",
              "\n",
              "  .colab-df-quickchart {\n",
              "    background-color: var(--bg-color);\n",
              "    border: none;\n",
              "    border-radius: 50%;\n",
              "    cursor: pointer;\n",
              "    display: none;\n",
              "    fill: var(--fill-color);\n",
              "    height: 32px;\n",
              "    padding: 0;\n",
              "    width: 32px;\n",
              "  }\n",
              "\n",
              "  .colab-df-quickchart:hover {\n",
              "    background-color: var(--hover-bg-color);\n",
              "    box-shadow: 0 1px 2px rgba(60, 64, 67, 0.3), 0 1px 3px 1px rgba(60, 64, 67, 0.15);\n",
              "    fill: var(--button-hover-fill-color);\n",
              "  }\n",
              "\n",
              "  .colab-df-quickchart-complete:disabled,\n",
              "  .colab-df-quickchart-complete:disabled:hover {\n",
              "    background-color: var(--disabled-bg-color);\n",
              "    fill: var(--disabled-fill-color);\n",
              "    box-shadow: none;\n",
              "  }\n",
              "\n",
              "  .colab-df-spinner {\n",
              "    border: 2px solid var(--fill-color);\n",
              "    border-color: transparent;\n",
              "    border-bottom-color: var(--fill-color);\n",
              "    animation:\n",
              "      spin 1s steps(1) infinite;\n",
              "  }\n",
              "\n",
              "  @keyframes spin {\n",
              "    0% {\n",
              "      border-color: transparent;\n",
              "      border-bottom-color: var(--fill-color);\n",
              "      border-left-color: var(--fill-color);\n",
              "    }\n",
              "    20% {\n",
              "      border-color: transparent;\n",
              "      border-left-color: var(--fill-color);\n",
              "      border-top-color: var(--fill-color);\n",
              "    }\n",
              "    30% {\n",
              "      border-color: transparent;\n",
              "      border-left-color: var(--fill-color);\n",
              "      border-top-color: var(--fill-color);\n",
              "      border-right-color: var(--fill-color);\n",
              "    }\n",
              "    40% {\n",
              "      border-color: transparent;\n",
              "      border-right-color: var(--fill-color);\n",
              "      border-top-color: var(--fill-color);\n",
              "    }\n",
              "    60% {\n",
              "      border-color: transparent;\n",
              "      border-right-color: var(--fill-color);\n",
              "    }\n",
              "    80% {\n",
              "      border-color: transparent;\n",
              "      border-right-color: var(--fill-color);\n",
              "      border-bottom-color: var(--fill-color);\n",
              "    }\n",
              "    90% {\n",
              "      border-color: transparent;\n",
              "      border-bottom-color: var(--fill-color);\n",
              "    }\n",
              "  }\n",
              "</style>\n",
              "\n",
              "      <script>\n",
              "        async function quickchart(key) {\n",
              "          const quickchartButtonEl =\n",
              "            document.querySelector('#' + key + ' button');\n",
              "          quickchartButtonEl.disabled = true;  // To prevent multiple clicks.\n",
              "          quickchartButtonEl.classList.add('colab-df-spinner');\n",
              "          try {\n",
              "            const charts = await google.colab.kernel.invokeFunction(\n",
              "                'suggestCharts', [key], {});\n",
              "          } catch (error) {\n",
              "            console.error('Error during call to suggestCharts:', error);\n",
              "          }\n",
              "          quickchartButtonEl.classList.remove('colab-df-spinner');\n",
              "          quickchartButtonEl.classList.add('colab-df-quickchart-complete');\n",
              "        }\n",
              "        (() => {\n",
              "          let quickchartButtonEl =\n",
              "            document.querySelector('#df-d3bc7ae3-78d7-4969-89c5-b3c63a9420d9 button');\n",
              "          quickchartButtonEl.style.display =\n",
              "            google.colab.kernel.accessAllowed ? 'block' : 'none';\n",
              "        })();\n",
              "      </script>\n",
              "    </div>\n",
              "\n",
              "    </div>\n",
              "  </div>\n"
            ],
            "application/vnd.google.colaboratory.intrinsic+json": {
              "type": "dataframe",
              "summary": "{\n  \"name\": \"display(df\",\n  \"rows\": 5,\n  \"fields\": [\n    {\n      \"column\": \"year\",\n      \"properties\": {\n        \"dtype\": \"number\",\n        \"std\": 0,\n        \"min\": 1901,\n        \"max\": 1901,\n        \"num_unique_values\": 1,\n        \"samples\": [\n          1901\n        ],\n        \"semantic_type\": \"\",\n        \"description\": \"\"\n      }\n    },\n    {\n      \"column\": \"category\",\n      \"properties\": {\n        \"dtype\": \"string\",\n        \"num_unique_values\": 4,\n        \"samples\": [\n          \"Literature\"\n        ],\n        \"semantic_type\": \"\",\n        \"description\": \"\"\n      }\n    },\n    {\n      \"column\": \"prize\",\n      \"properties\": {\n        \"dtype\": \"string\",\n        \"num_unique_values\": 4,\n        \"samples\": [\n          \"The Nobel Prize in Literature 1901\"\n        ],\n        \"semantic_type\": \"\",\n        \"description\": \"\"\n      }\n    },\n    {\n      \"column\": \"motivation\",\n      \"properties\": {\n        \"dtype\": \"string\",\n        \"num_unique_values\": 3,\n        \"samples\": [\n          \"\\\"in recognition of the extraordinary services he has rendered by the discovery of the laws of chemical dynamics and osmotic pressure in solutions\\\"\"\n        ],\n        \"semantic_type\": \"\",\n        \"description\": \"\"\n      }\n    },\n    {\n      \"column\": \"prize_share\",\n      \"properties\": {\n        \"dtype\": \"category\",\n        \"num_unique_values\": 2,\n        \"samples\": [\n          \"1/2\"\n        ],\n        \"semantic_type\": \"\",\n        \"description\": \"\"\n      }\n    },\n    {\n      \"column\": \"laureate_id\",\n      \"properties\": {\n        \"dtype\": \"number\",\n        \"std\": 161,\n        \"min\": 160,\n        \"max\": 569,\n        \"num_unique_values\": 5,\n        \"samples\": [\n          569\n        ],\n        \"semantic_type\": \"\",\n        \"description\": \"\"\n      }\n    },\n    {\n      \"column\": \"laureate_type\",\n      \"properties\": {\n        \"dtype\": \"category\",\n        \"num_unique_values\": 1,\n        \"samples\": [\n          \"Individual\"\n        ],\n        \"semantic_type\": \"\",\n        \"description\": \"\"\n      }\n    },\n    {\n      \"column\": \"full_name\",\n      \"properties\": {\n        \"dtype\": \"string\",\n        \"num_unique_values\": 5,\n        \"samples\": [\n          \"Sully Prudhomme\"\n        ],\n        \"semantic_type\": \"\",\n        \"description\": \"\"\n      }\n    },\n    {\n      \"column\": \"birth_date\",\n      \"properties\": {\n        \"dtype\": \"object\",\n        \"num_unique_values\": 5,\n        \"samples\": [\n          \"1839-03-16\"\n        ],\n        \"semantic_type\": \"\",\n        \"description\": \"\"\n      }\n    },\n    {\n      \"column\": \"birth_city\",\n      \"properties\": {\n        \"dtype\": \"string\",\n        \"num_unique_values\": 4,\n        \"samples\": [\n          \"Paris\"\n        ],\n        \"semantic_type\": \"\",\n        \"description\": \"\"\n      }\n    },\n    {\n      \"column\": \"birth_country\",\n      \"properties\": {\n        \"dtype\": \"string\",\n        \"num_unique_values\": 4,\n        \"samples\": [\n          \"France\"\n        ],\n        \"semantic_type\": \"\",\n        \"description\": \"\"\n      }\n    },\n    {\n      \"column\": \"sex\",\n      \"properties\": {\n        \"dtype\": \"category\",\n        \"num_unique_values\": 1,\n        \"samples\": [\n          \"Male\"\n        ],\n        \"semantic_type\": \"\",\n        \"description\": \"\"\n      }\n    },\n    {\n      \"column\": \"organization_name\",\n      \"properties\": {\n        \"dtype\": \"category\",\n        \"num_unique_values\": 2,\n        \"samples\": [\n          \"Marburg University\"\n        ],\n        \"semantic_type\": \"\",\n        \"description\": \"\"\n      }\n    },\n    {\n      \"column\": \"organization_city\",\n      \"properties\": {\n        \"dtype\": \"category\",\n        \"num_unique_values\": 2,\n        \"samples\": [\n          \"Marburg\"\n        ],\n        \"semantic_type\": \"\",\n        \"description\": \"\"\n      }\n    },\n    {\n      \"column\": \"organization_country\",\n      \"properties\": {\n        \"dtype\": \"category\",\n        \"num_unique_values\": 1,\n        \"samples\": [\n          \"Germany\"\n        ],\n        \"semantic_type\": \"\",\n        \"description\": \"\"\n      }\n    },\n    {\n      \"column\": \"death_date\",\n      \"properties\": {\n        \"dtype\": \"object\",\n        \"num_unique_values\": 5,\n        \"samples\": [\n          \"1907-09-07\"\n        ],\n        \"semantic_type\": \"\",\n        \"description\": \"\"\n      }\n    },\n    {\n      \"column\": \"death_city\",\n      \"properties\": {\n        \"dtype\": \"string\",\n        \"num_unique_values\": 5,\n        \"samples\": [\n          \"Ch\\u00e2tenay\"\n        ],\n        \"semantic_type\": \"\",\n        \"description\": \"\"\n      }\n    },\n    {\n      \"column\": \"death_country\",\n      \"properties\": {\n        \"dtype\": \"string\",\n        \"num_unique_values\": 3,\n        \"samples\": [\n          \"Germany\"\n        ],\n        \"semantic_type\": \"\",\n        \"description\": \"\"\n      }\n    }\n  ]\n}"
            }
          },
          "metadata": {}
        }
      ]
    },
    {
      "cell_type": "code",
      "source": [
        "top_gender = df[\"sex\"].value_counts().index[0]\n",
        "top_country = df[\"birth_country\"].value_counts().index[0]\n",
        "print(top_gender)\n",
        "print(top_country)"
      ],
      "metadata": {
        "collapsed": true,
        "colab": {
          "base_uri": "https://localhost:8080/"
        },
        "id": "BBU5Kq-R5wFS",
        "outputId": "39d7a30e-0571-42ee-901e-838c0a6e3add"
      },
      "execution_count": 8,
      "outputs": [
        {
          "output_type": "stream",
          "name": "stdout",
          "text": [
            "Male\n",
            "United States of America\n"
          ]
        }
      ]
    },
    {
      "cell_type": "markdown",
      "source": [
        "**Q2 Which decade had the highest ratio of US-born Nobel Prize winners to total winners in all categories?**\n",
        "\n",
        "- Store this as an integer called max_decade_usa."
      ],
      "metadata": {
        "id": "yv3mRujL59Em"
      }
    },
    {
      "cell_type": "markdown",
      "source": [
        "**Identify the decade with the highest ratio of US-born winners\n",
        "To calculate the ratio, first create a column that creates a flag for winners whose birth country is \"United States of America\", then create a decade column, and use both to find the ratio.**\n",
        "\n",
        "\n",
        "1. Create the US-born winners column\n",
        "- Use the following syntax to create a new column based on information in an - - existing column: df['col_name'] = df['col_name'] == 'France'\n",
        "\n",
        "\n",
        "\n",
        "2. Create the decade column\n",
        "- Each year value in the decade column should end with 0. Divide the year values by 10 and wrap this in np.floor().\n",
        "- You'll then need to multiply by 10 to get the four-digit year value and set the type as int using .astype().\n",
        "\n",
        "\n",
        "\n",
        "3. Finding the ratio\n",
        "- Use groupby() to group by decade, then use .mean() on the US-born winner - - - column. By setting as_index=False, you make sure the result is saved as a - - - DataFrame rather than a series.\n",
        "\n",
        "\n",
        "4. Identify the decade with the highest ratio of US-born winners\n",
        "- Using the DataFrame with the US-born winner ratio, find the row that has the highest ratio by filtering the DataFrame to find the row with the .max() ratio value.\n",
        "- To save only the decade value, add ['decade'] and .values[0] to the filter and save this to max_decade_usa.\n",
        "\n",
        "\n",
        "\n",
        "5. Create a relational line plot\n",
        "- This step is optional. Use the relplot() function from seaborn, with the kind parameter equal to \"line\"; fill in the appropriate x, y, and data parameters."
      ],
      "metadata": {
        "id": "fIW538A-5_Df"
      }
    },
    {
      "cell_type": "code",
      "source": [
        "df[\"US-born\"] = df[\"birth_country\"] == \"United States of America\"\n",
        "print(df[\"US-born\"])"
      ],
      "metadata": {
        "collapsed": true,
        "colab": {
          "base_uri": "https://localhost:8080/"
        },
        "id": "rw4mArV36g8R",
        "outputId": "d366ca9b-7150-483f-9678-be38b4e0b899"
      },
      "execution_count": 9,
      "outputs": [
        {
          "output_type": "stream",
          "name": "stdout",
          "text": [
            "0      False\n",
            "1      False\n",
            "2      False\n",
            "3      False\n",
            "4      False\n",
            "       ...  \n",
            "994    False\n",
            "995     True\n",
            "996    False\n",
            "997    False\n",
            "998    False\n",
            "Name: US-born, Length: 999, dtype: bool\n"
          ]
        }
      ]
    },
    {
      "cell_type": "code",
      "source": [
        "df[\"decade\"] = (np.floor(df[\"year\"] / 10) * 10).astype(int)\n",
        "print(df[\"decade\"])\n",
        "us_born_by_decade = df.groupby(\"decade\", as_index=False)[\"US-born\"].mean()\n",
        "us_born_by_decade.rename(columns={\"US-born\": \"mean_us_born\"}, inplace=True)\n",
        "print(us_born_by_decade)"
      ],
      "metadata": {
        "colab": {
          "base_uri": "https://localhost:8080/"
        },
        "collapsed": true,
        "id": "9gaDws4V6jsG",
        "outputId": "84da7f40-3a8b-498d-b9ed-113b1ee7c64c"
      },
      "execution_count": 16,
      "outputs": [
        {
          "output_type": "stream",
          "name": "stdout",
          "text": [
            "0      1900\n",
            "1      1900\n",
            "2      1900\n",
            "3      1900\n",
            "4      1900\n",
            "       ... \n",
            "994    2020\n",
            "995    2020\n",
            "996    2020\n",
            "997    2020\n",
            "998    2020\n",
            "Name: decade, Length: 999, dtype: int64\n",
            "    decade  mean_us_born\n",
            "0     1900      0.017544\n",
            "1     1910      0.075000\n",
            "2     1920      0.074074\n",
            "3     1930      0.250000\n",
            "4     1940      0.302326\n",
            "5     1950      0.291667\n",
            "6     1960      0.265823\n",
            "7     1970      0.317308\n",
            "8     1980      0.319588\n",
            "9     1990      0.403846\n",
            "10    2000      0.422764\n",
            "11    2010      0.314050\n",
            "12    2020      0.346939\n"
          ]
        }
      ]
    },
    {
      "cell_type": "code",
      "source": [
        "max_mean_value = us_born_by_decade[\"mean_us_born\"].max()\n",
        "max_decade_usa = us_born_by_decade[us_born_by_decade[\"mean_us_born\"] == max_mean_value]\n",
        "max_decade_usa=max_decade_usa[\"decade\"].values[0]\n",
        "print(max_decade_usa)"
      ],
      "metadata": {
        "collapsed": true,
        "id": "3yOgBL6k7cRV",
        "outputId": "7144585d-70c9-46ed-a374-d5263dc34197",
        "colab": {
          "base_uri": "https://localhost:8080/"
        }
      },
      "execution_count": 19,
      "outputs": [
        {
          "output_type": "stream",
          "name": "stdout",
          "text": [
            "2000\n"
          ]
        }
      ]
    },
    {
      "cell_type": "code",
      "source": [
        "sns.relplot(x=\"decade\", y=\"mean_us_born\", data=us_born_by_decade, kind=\"line\")\n",
        "plt.show()"
      ],
      "metadata": {
        "collapsed": true,
        "id": "1oWqhYq17nxv",
        "outputId": "ce43c2f3-aaea-46ed-e5bd-49a9af028995",
        "colab": {
          "base_uri": "https://localhost:8080/",
          "height": 506
        }
      },
      "execution_count": 20,
      "outputs": [
        {
          "output_type": "display_data",
          "data": {
            "text/plain": [
              "<Figure size 500x500 with 1 Axes>"
            ],
            "image/png": "[encoded data removed]"
          },
          "metadata": {}
        }
      ]
    },
    {
      "cell_type": "markdown",
      "source": [
        "**Q3 Which decade and Nobel Prize category combination had the highest proportion of female laureates?**\n",
        "\n",
        "- Store this as a dictionary called max_female_dict where the decade is the key and the category is the value. There should only be one key:value pair."
      ],
      "metadata": {
        "id": "BAR1RY_18DCH"
      }
    },
    {
      "cell_type": "markdown",
      "source": [
        "**Find the decade and category with the highest proportion of female laureates\n",
        "You can copy and modify your code from the previous tasks to create a DataFrame for the proportion of female winners, then create a dictionary called max_female_dict with the year and category pair with the most female winners.**\n",
        "\n",
        "\n",
        "1. Filtering for female winners\n",
        "- Add a column where the value is True when sex is \"Female\".\n",
        "\n",
        "\n",
        "2. Group by two columns\n",
        "- Use groupby() to group by both decade and category, then isolate the female_winner column and take the mean(). Use as_index=False to save the result as a DataFrame.\n",
        "\n",
        "\n",
        "3. Find the decade and category with the highest female winners\n",
        "- Using the new DataFrame with the means of female winners, find the row that has the highest mean by filtering the DataFrame to find the row with the .max() mean value.\n",
        "- To save the decade and category values, add ['decade', 'category'] to the filter.\n",
        "\n",
        "\n",
        "4. Create a dictionary\n",
        "- Use the curly braces syntax to create a dictionary and apply .values[0] to extract the decade and category from the values you just saved. It should look something like this: {df['col1'].values[0]: df['col2'].values[0]}\n",
        "\n",
        "\n",
        "5. Create a relational line plot with multiple categories\n",
        "- This step is optional: Use the same plotting code as the previous task and add the hue parameter, mapping it to the category variable."
      ],
      "metadata": {
        "id": "AsKVTsov8P3W"
      }
    },
    {
      "cell_type": "code",
      "source": [
        "df[\"Female\"] = df[\"sex\"] == \"Female\"\n",
        "df[\"Female\"]"
      ],
      "metadata": {
        "collapsed": true,
        "id": "-UtkoxHM8tFT",
        "outputId": "1e888b4a-66ad-47a5-b38c-f99e126c304e",
        "colab": {
          "base_uri": "https://localhost:8080/",
          "height": 458
        }
      },
      "execution_count": 21,
      "outputs": [
        {
          "output_type": "execute_result",
          "data": {
            "text/plain": [
              "0      False\n",
              "1      False\n",
              "2      False\n",
              "3      False\n",
              "4      False\n",
              "       ...  \n",
              "994    False\n",
              "995    False\n",
              "996    False\n",
              "997    False\n",
              "998     True\n",
              "Name: Female, Length: 999, dtype: bool"
            ],
            "text/html": [
              "<div>\n",
              "<style scoped>\n",
              "    .dataframe tbody tr th:only-of-type {\n",
              "        vertical-align: middle;\n",
              "    }\n",
              "\n",
              "    .dataframe tbody tr th {\n",
              "        vertical-align: top;\n",
              "    }\n",
              "\n",
              "    .dataframe thead th {\n",
              "        text-align: right;\n",
              "    }\n",
              "</style>\n",
              "<table border=\"1\" class=\"dataframe\">\n",
              "  <thead>\n",
              "    <tr style=\"text-align: right;\">\n",
              "      <th></th>\n",
              "      <th>Female</th>\n",
              "    </tr>\n",
              "  </thead>\n",
              "  <tbody>\n",
              "    <tr>\n",
              "      <th>0</th>\n",
              "      <td>False</td>\n",
              "    </tr>\n",
              "    <tr>\n",
              "      <th>1</th>\n",
              "      <td>False</td>\n",
              "    </tr>\n",
              "    <tr>\n",
              "      <th>2</th>\n",
              "      <td>False</td>\n",
              "    </tr>\n",
              "    <tr>\n",
              "      <th>3</th>\n",
              "      <td>False</td>\n",
              "    </tr>\n",
              "    <tr>\n",
              "      <th>4</th>\n",
              "      <td>False</td>\n",
              "    </tr>\n",
              "    <tr>\n",
              "      <th>...</th>\n",
              "      <td>...</td>\n",
              "    </tr>\n",
              "    <tr>\n",
              "      <th>994</th>\n",
              "      <td>False</td>\n",
              "    </tr>\n",
              "    <tr>\n",
              "      <th>995</th>\n",
              "      <td>False</td>\n",
              "    </tr>\n",
              "    <tr>\n",
              "      <th>996</th>\n",
              "      <td>False</td>\n",
              "    </tr>\n",
              "    <tr>\n",
              "      <th>997</th>\n",
              "      <td>False</td>\n",
              "    </tr>\n",
              "    <tr>\n",
              "      <th>998</th>\n",
              "      <td>True</td>\n",
              "    </tr>\n",
              "  </tbody>\n",
              "</table>\n",
              "<p>999 rows × 1 columns</p>\n",
              "</div><br><label><b>dtype:</b> bool</label>"
            ]
          },
          "metadata": {},
          "execution_count": 21
        }
      ]
    },
    {
      "cell_type": "code",
      "source": [
        "female_winner = df.groupby([\"decade\", \"category\"], as_index=False)[\"Female\"].mean()\n",
        "print(female_winner)"
      ],
      "metadata": {
        "collapsed": true,
        "id": "dB7xJOfD8xy_",
        "outputId": "f26de526-135c-496b-ff1b-b922f3e59184",
        "colab": {
          "base_uri": "https://localhost:8080/"
        }
      },
      "execution_count": 23,
      "outputs": [
        {
          "output_type": "stream",
          "name": "stdout",
          "text": [
            "    decade    category    Female\n",
            "0     1900   Chemistry  0.000000\n",
            "1     1900  Literature  0.100000\n",
            "2     1900    Medicine  0.000000\n",
            "3     1900       Peace  0.071429\n",
            "4     1900     Physics  0.076923\n",
            "..     ...         ...       ...\n",
            "67    2020   Economics  0.000000\n",
            "68    2020  Literature  0.500000\n",
            "69    2020    Medicine  0.125000\n",
            "70    2020       Peace  0.285714\n",
            "71    2020     Physics  0.166667\n",
            "\n",
            "[72 rows x 3 columns]\n"
          ]
        }
      ]
    },
    {
      "cell_type": "code",
      "source": [
        "max_female_value = female_winner[\"Female\"].max()\n",
        "max_female = female_winner[female_winner[\"Female\"] == max_female_value]\n",
        "print(max_female)"
      ],
      "metadata": {
        "collapsed": true,
        "id": "_kskRpb-81FS",
        "outputId": "bfabddd9-96ea-4579-a919-f89e2eb89ec5",
        "colab": {
          "base_uri": "https://localhost:8080/"
        }
      },
      "execution_count": 24,
      "outputs": [
        {
          "output_type": "stream",
          "name": "stdout",
          "text": [
            "    decade    category  Female\n",
            "68    2020  Literature     0.5\n"
          ]
        }
      ]
    },
    {
      "cell_type": "code",
      "source": [
        "max_female_dict = {max_female[\"decade\"].values[0]:\n",
        "                 max_female[\"category\"].values[0]}\n",
        "print(max_female_dict)"
      ],
      "metadata": {
        "id": "xbaH72BL86J4",
        "outputId": "34028d58-eaa7-4da4-cc9b-437f8e63fd99",
        "colab": {
          "base_uri": "https://localhost:8080/"
        }
      },
      "execution_count": 25,
      "outputs": [
        {
          "output_type": "stream",
          "name": "stdout",
          "text": [
            "{np.int64(2020): 'Literature'}\n"
          ]
        }
      ]
    },
    {
      "cell_type": "markdown",
      "source": [
        "**Q4 Who was the first woman to receive a Nobel Prize, and in what category?**\n",
        "\n",
        "- Save your string answers as first_woman_name and first_woman_category."
      ],
      "metadata": {
        "id": "qJ4f7pN59Au0"
      }
    },
    {
      "cell_type": "markdown",
      "source": [
        "**Find first woman to win a Nobel Prize**\n",
        "1. Filter the DataFrame for the rows with Female winners and find the earliest - year and corresponding category in this subset.\n",
        "\n",
        "\n",
        "2. Filter a DataFrame\n",
        "- Use the female winner column you created and filter the DataFrame with the following syntax: new_df = df[df['col']]\n",
        "\n",
        "\n",
        "3. Find the minimum value in a column\n",
        "- To find the lowest value in a particular column, you can use: min_row = df[df['col'] == df['col_'].min()]."
      ],
      "metadata": {
        "id": "rmYmp2oA9G9c"
      }
    },
    {
      "cell_type": "code",
      "source": [
        "winner_female = df[df[\"Female\"]]\n",
        "print(winner_female[\"full_name\"])"
      ],
      "metadata": {
        "collapsed": true,
        "id": "r0SrhZWa9S1m",
        "outputId": "4f6cfaff-3fd6-45ed-fd38-d13c0294a0fd",
        "colab": {
          "base_uri": "https://localhost:8080/"
        }
      },
      "execution_count": 26,
      "outputs": [
        {
          "output_type": "stream",
          "name": "stdout",
          "text": [
            "19                           Marie Curie, née Sklodowska\n",
            "29     Baroness Bertha Sophie Felicita von Suttner, n...\n",
            "51                         Selma Ottilia Lovisa Lagerlöf\n",
            "62                           Marie Curie, née Sklodowska\n",
            "128                                       Grazia Deledda\n",
            "                             ...                        \n",
            "980                                     Carolyn Bertozzi\n",
            "982                                         Annie Ernaux\n",
            "989                                       Katalin Karikó\n",
            "993                                      Anne L’Huillier\n",
            "998                                     Narges Mohammadi\n",
            "Name: full_name, Length: 64, dtype: object\n"
          ]
        }
      ]
    },
    {
      "cell_type": "code",
      "source": [
        "first_woman = winner_female[\"year\"].min()\n",
        "first_woman = winner_female[winner_female[\"year\"]==first_woman]\n",
        "print(first_woman)"
      ],
      "metadata": {
        "collapsed": true,
        "id": "exqKgTDP9W5o",
        "outputId": "1e3372a8-096a-4f69-b71e-8e5af79fde71",
        "colab": {
          "base_uri": "https://localhost:8080/"
        }
      },
      "execution_count": 28,
      "outputs": [
        {
          "output_type": "stream",
          "name": "stdout",
          "text": [
            "    year category                            prize  \\\n",
            "19  1903  Physics  The Nobel Prize in Physics 1903   \n",
            "\n",
            "                                           motivation prize_share  \\\n",
            "19  \"in recognition of the extraordinary services ...         1/4   \n",
            "\n",
            "    laureate_id laureate_type                    full_name  birth_date  \\\n",
            "19            6    Individual  Marie Curie, née Sklodowska  1867-11-07   \n",
            "\n",
            "   birth_city  ...     sex organization_name organization_city  \\\n",
            "19     Warsaw  ...  Female               NaN               NaN   \n",
            "\n",
            "   organization_country  death_date  death_city death_country US-born  decade  \\\n",
            "19                  NaN  1934-07-04  Sallanches        France   False    1900   \n",
            "\n",
            "    Female  \n",
            "19    True  \n",
            "\n",
            "[1 rows x 21 columns]\n"
          ]
        }
      ]
    },
    {
      "cell_type": "code",
      "source": [
        "first_woman_name = first_woman[\"full_name\"].values[0]\n",
        "first_woman_category = first_woman[\"category\"].values[0]\n",
        "print(first_woman_name)\n",
        "print(first_woman_category)"
      ],
      "metadata": {
        "collapsed": true,
        "id": "-c5ubI879aMY",
        "outputId": "350ba0f0-2659-4083-a4f5-028f30ab5eba",
        "colab": {
          "base_uri": "https://localhost:8080/"
        }
      },
      "execution_count": 29,
      "outputs": [
        {
          "output_type": "stream",
          "name": "stdout",
          "text": [
            "Marie Curie, née Sklodowska\n",
            "Physics\n"
          ]
        }
      ]
    },
    {
      "cell_type": "markdown",
      "source": [
        "**Q5 Which individuals or organizations have won more than one Nobel Prize throughout the years?**\n",
        "\n",
        "- Store the full names in a list named repeat_list."
      ],
      "metadata": {
        "id": "8WntnP9m9jEy"
      }
    },
    {
      "cell_type": "markdown",
      "source": [
        "**Determine repeat winners**\n",
        "- Count the number of times each winner has won, then select those with counts of two or more, saving the full names as a list called repeats.\n",
        "\n",
        "\n",
        "1. Count the values in a column\n",
        "- Apply .value_counts() on the full_name column to get the counts for each winner as a pandas Series.\n",
        "\n",
        "\n",
        "2. Finding counts of two or more\n",
        "- Subset the counts to keep only those with >= 2 counts and use .index to keep only the names: counts[counts >= 2].index.\n",
        "\n",
        "\n",
        "3. Save as a list\n",
        "- You can convert an object to a list with list(object)."
      ],
      "metadata": {
        "id": "zYBDbEON9oUm"
      }
    },
    {
      "cell_type": "code",
      "source": [
        "repeats = df[\"full_name\"].value_counts()\n",
        "repeats = repeats[repeats  >= 2].index\n",
        "repeat_list = list(repeats)\n",
        "print(repeat_list)"
      ],
      "metadata": {
        "collapsed": true,
        "id": "bSzp-AuY99sn",
        "outputId": "bda1d6f1-7628-424d-8fdd-693507e3f008",
        "colab": {
          "base_uri": "https://localhost:8080/"
        }
      },
      "execution_count": 30,
      "outputs": [
        {
          "output_type": "stream",
          "name": "stdout",
          "text": [
            "['Comité international de la Croix Rouge (International Committee of the Red Cross)', 'Office of the United Nations High Commissioner for Refugees (UNHCR)', 'Marie Curie, née Sklodowska', 'Linus Carl Pauling', 'John Bardeen', 'Frederick Sanger']\n"
          ]
        }
      ]
    }
  ]
}